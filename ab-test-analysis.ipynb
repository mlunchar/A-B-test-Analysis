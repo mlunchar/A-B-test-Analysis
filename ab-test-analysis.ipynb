{
 "cells": [
  {
   "cell_type": "markdown",
   "metadata": {},
   "source": [
    "# A/B test analysis"
   ]
  },
  {
   "cell_type": "markdown",
   "metadata": {},
   "source": [
    "<b> Table of Contents: </b>\n",
    "\n",
    "1. [Introduction](#introduction)\n",
    "2. [General information](#general)\n",
    "    * [Conclusion](#conclusion)\n",
    "3. [Data preprocessing](#preprocessing)\n",
    "    * [Conclusion](#conclusion1)\n",
    "4. [Prioritizing hypotheses](#hypotheses)\n",
    "    * [ICE](#ice)\n",
    "    * [RICE](#rice)\n",
    "    * [Conclusion](#conclusion2)\n",
    "5. [A/B test analysis](#ab)\n",
    "    * [Cumulative revenue](#cum_rev)\n",
    "    * [Cumulative order size](#cum_order)\n",
    "    * [Relative difference in cumulative average order size per groups](#relative_avg)\n",
    "    * [Conversion rate](#conversion)\n",
    "    * [Number of orders per user](#n_orders)\n",
    "    * [Order price](#order_price)\n",
    "    * [Comparison of statistical significance between raw and filtered data](#stat_sign)\n",
    "        * [Raw data. Statistical significance of the difference in conversion between the groups](#conversion_raw)\n",
    "        * [Raw data. Statistical significance of the difference in average order size between the groups](#order_size_raw)\n",
    "        * [Filtering the data](#filtering)\n",
    "        * [Filtered data. Statistical significance of the difference in conversion between the groups](#conversion_filt)\n",
    "        * [Filtered data. Statistical significance of the difference in average order size between the groups](#order_size_filt)\n",
    "6. [Overall conclusion](#conclusion3)"
   ]
  },
  {
   "cell_type": "markdown",
   "metadata": {},
   "source": [
    "<a id=\"introduction\"></a>\n",
    "## Introduction\n",
    "<b>Project description:</b>\n",
    "As an analyst in a big online store, we're going to prioritize hypotheses we've come up together with the marketing department to boost the revenue. Then we're going to launch an A/B test, and analyze the results.\n",
    "\n",
    "<b>Project structure:</b>\n",
    "\n",
    "1. General information and data preparation. We're going to take a look at the data we have, check whether it has no errors and prepare it for analysis.\n",
    "2. Prioritizing Hypotheses. We're going to choose one of the nine hypotheses on boosting an online store's revenue.\n",
    "3. A/B Test Analysis. We're going to analyse the results we've got after launching an A/B test.\n",
    "4. We'll present the overall conclusion and advice for business."
   ]
  },
  {
   "cell_type": "markdown",
   "metadata": {},
   "source": [
    "<a id=\"general\"></a>\n",
    "## General information"
   ]
  },
  {
   "cell_type": "code",
   "execution_count": 1,
   "metadata": {},
   "outputs": [],
   "source": [
    "!pip install -Uq seaborn\n",
    "!pip install -Uq sidetable"
   ]
  },
  {
   "cell_type": "markdown",
   "metadata": {},
   "source": [
    "*! be sure to install updates, otherwise some blocks may not work* "
   ]
  },
  {
   "cell_type": "code",
   "execution_count": 2,
   "metadata": {},
   "outputs": [],
   "source": [
    "import numpy as np\n",
    "import pandas as pd\n",
    "from scipy import stats\n",
    "import matplotlib.pyplot as plt\n",
    "import seaborn as sns\n",
    "from datetime import datetime as dt\n",
    "import sidetable\n",
    "import sys\n",
    "import warnings\n",
    "if not sys.warnoptions:\n",
    "    warnings.simplefilter(\"ignore\")"
   ]
  },
  {
   "cell_type": "code",
   "execution_count": 3,
   "metadata": {},
   "outputs": [],
   "source": [
    "try:\n",
    "    hypotheses = pd.read_csv('hypotheses_us.csv', sep=';')\n",
    "except:\n",
    "    print('Error while loading the file')"
   ]
  },
  {
   "cell_type": "code",
   "execution_count": 4,
   "metadata": {},
   "outputs": [],
   "source": [
    "try:\n",
    "    visits = pd.read_csv('visits_us.csv')\n",
    "except:\n",
    "    print('Error while loading the file')"
   ]
  },
  {
   "cell_type": "code",
   "execution_count": 5,
   "metadata": {},
   "outputs": [],
   "source": [
    "try:\n",
    "    orders = pd.read_csv('orders_us.csv')\n",
    "except:\n",
    "    print('Error while loading the file')"
   ]
  },
  {
   "cell_type": "code",
   "execution_count": 6,
   "metadata": {},
   "outputs": [
    {
     "name": "stdout",
     "output_type": "stream",
     "text": [
      "<class 'pandas.core.frame.DataFrame'>\n",
      "RangeIndex: 9 entries, 0 to 8\n",
      "Data columns (total 5 columns):\n",
      " #   Column      Non-Null Count  Dtype \n",
      "---  ------      --------------  ----- \n",
      " 0   Hypothesis  9 non-null      object\n",
      " 1   Reach       9 non-null      int64 \n",
      " 2   Impact      9 non-null      int64 \n",
      " 3   Confidence  9 non-null      int64 \n",
      " 4   Effort      9 non-null      int64 \n",
      "dtypes: int64(4), object(1)\n",
      "memory usage: 488.0+ bytes\n"
     ]
    }
   ],
   "source": [
    "hypotheses.info()"
   ]
  },
  {
   "cell_type": "markdown",
   "metadata": {},
   "source": [
    "As expected in this table we have only 9 rows, each row symbolyzing a hypothesis, and 5 columns. We can take a look at the whole table. Additionally, there's one object type variable with a description of hypothesis, and 4 `int64` variables, which we could have changed into `int16` or even `int8`, but it doesn't matter as the table is already this small."
   ]
  },
  {
   "cell_type": "code",
   "execution_count": 7,
   "metadata": {},
   "outputs": [
    {
     "data": {
      "text/html": [
       "<div>\n",
       "<style scoped>\n",
       "    .dataframe tbody tr th:only-of-type {\n",
       "        vertical-align: middle;\n",
       "    }\n",
       "\n",
       "    .dataframe tbody tr th {\n",
       "        vertical-align: top;\n",
       "    }\n",
       "\n",
       "    .dataframe thead th {\n",
       "        text-align: right;\n",
       "    }\n",
       "</style>\n",
       "<table border=\"1\" class=\"dataframe\">\n",
       "  <thead>\n",
       "    <tr style=\"text-align: right;\">\n",
       "      <th></th>\n",
       "      <th>Hypothesis</th>\n",
       "      <th>Reach</th>\n",
       "      <th>Impact</th>\n",
       "      <th>Confidence</th>\n",
       "      <th>Effort</th>\n",
       "    </tr>\n",
       "  </thead>\n",
       "  <tbody>\n",
       "    <tr>\n",
       "      <th>0</th>\n",
       "      <td>Add two new channels for attracting traffic. T...</td>\n",
       "      <td>3</td>\n",
       "      <td>10</td>\n",
       "      <td>8</td>\n",
       "      <td>6</td>\n",
       "    </tr>\n",
       "    <tr>\n",
       "      <th>1</th>\n",
       "      <td>Launch your own delivery service. This will sh...</td>\n",
       "      <td>2</td>\n",
       "      <td>5</td>\n",
       "      <td>4</td>\n",
       "      <td>10</td>\n",
       "    </tr>\n",
       "    <tr>\n",
       "      <th>2</th>\n",
       "      <td>Add product recommendation blocks to the store...</td>\n",
       "      <td>8</td>\n",
       "      <td>3</td>\n",
       "      <td>7</td>\n",
       "      <td>3</td>\n",
       "    </tr>\n",
       "    <tr>\n",
       "      <th>3</th>\n",
       "      <td>Change the category structure. This will incre...</td>\n",
       "      <td>8</td>\n",
       "      <td>3</td>\n",
       "      <td>3</td>\n",
       "      <td>8</td>\n",
       "    </tr>\n",
       "    <tr>\n",
       "      <th>4</th>\n",
       "      <td>Change the background color on the main page. ...</td>\n",
       "      <td>3</td>\n",
       "      <td>1</td>\n",
       "      <td>1</td>\n",
       "      <td>1</td>\n",
       "    </tr>\n",
       "    <tr>\n",
       "      <th>5</th>\n",
       "      <td>Add a customer review page. This will increase...</td>\n",
       "      <td>3</td>\n",
       "      <td>2</td>\n",
       "      <td>2</td>\n",
       "      <td>3</td>\n",
       "    </tr>\n",
       "    <tr>\n",
       "      <th>6</th>\n",
       "      <td>Show banners with current offers and sales on ...</td>\n",
       "      <td>5</td>\n",
       "      <td>3</td>\n",
       "      <td>8</td>\n",
       "      <td>3</td>\n",
       "    </tr>\n",
       "    <tr>\n",
       "      <th>7</th>\n",
       "      <td>Add a subscription form to all the main pages....</td>\n",
       "      <td>10</td>\n",
       "      <td>7</td>\n",
       "      <td>8</td>\n",
       "      <td>5</td>\n",
       "    </tr>\n",
       "    <tr>\n",
       "      <th>8</th>\n",
       "      <td>Launch a promotion that gives users discounts ...</td>\n",
       "      <td>1</td>\n",
       "      <td>9</td>\n",
       "      <td>9</td>\n",
       "      <td>5</td>\n",
       "    </tr>\n",
       "  </tbody>\n",
       "</table>\n",
       "</div>"
      ],
      "text/plain": [
       "                                          Hypothesis  Reach  Impact  \\\n",
       "0  Add two new channels for attracting traffic. T...      3      10   \n",
       "1  Launch your own delivery service. This will sh...      2       5   \n",
       "2  Add product recommendation blocks to the store...      8       3   \n",
       "3  Change the category structure. This will incre...      8       3   \n",
       "4  Change the background color on the main page. ...      3       1   \n",
       "5  Add a customer review page. This will increase...      3       2   \n",
       "6  Show banners with current offers and sales on ...      5       3   \n",
       "7  Add a subscription form to all the main pages....     10       7   \n",
       "8  Launch a promotion that gives users discounts ...      1       9   \n",
       "\n",
       "   Confidence  Effort  \n",
       "0           8       6  \n",
       "1           4      10  \n",
       "2           7       3  \n",
       "3           3       8  \n",
       "4           1       1  \n",
       "5           2       3  \n",
       "6           8       3  \n",
       "7           8       5  \n",
       "8           9       5  "
      ]
     },
     "execution_count": 7,
     "metadata": {},
     "output_type": "execute_result"
    }
   ],
   "source": [
    "hypotheses"
   ]
  },
  {
   "cell_type": "markdown",
   "metadata": {},
   "source": [
    "We can't exactly see what's written there, so let's take a look at the full text."
   ]
  },
  {
   "cell_type": "code",
   "execution_count": 8,
   "metadata": {},
   "outputs": [
    {
     "data": {
      "text/html": [
       "<div>\n",
       "<style scoped>\n",
       "    .dataframe tbody tr th:only-of-type {\n",
       "        vertical-align: middle;\n",
       "    }\n",
       "\n",
       "    .dataframe tbody tr th {\n",
       "        vertical-align: top;\n",
       "    }\n",
       "\n",
       "    .dataframe thead th {\n",
       "        text-align: right;\n",
       "    }\n",
       "</style>\n",
       "<table border=\"1\" class=\"dataframe\">\n",
       "  <thead>\n",
       "    <tr style=\"text-align: right;\">\n",
       "      <th></th>\n",
       "      <th>Hypothesis</th>\n",
       "    </tr>\n",
       "  </thead>\n",
       "  <tbody>\n",
       "    <tr>\n",
       "      <th>0</th>\n",
       "      <td>Add two new channels for attracting traffic. This will bring 30% more users</td>\n",
       "    </tr>\n",
       "    <tr>\n",
       "      <th>1</th>\n",
       "      <td>Launch your own delivery service. This will shorten delivery time</td>\n",
       "    </tr>\n",
       "    <tr>\n",
       "      <th>2</th>\n",
       "      <td>Add product recommendation blocks to the store's site. This will increase conversion and average purchase size</td>\n",
       "    </tr>\n",
       "    <tr>\n",
       "      <th>3</th>\n",
       "      <td>Change the category structure. This will increase conversion since users will find the products they want more quickly</td>\n",
       "    </tr>\n",
       "    <tr>\n",
       "      <th>4</th>\n",
       "      <td>Change the background color on the main page. This will increase user engagement</td>\n",
       "    </tr>\n",
       "    <tr>\n",
       "      <th>5</th>\n",
       "      <td>Add a customer review page. This will increase the number of orders</td>\n",
       "    </tr>\n",
       "    <tr>\n",
       "      <th>6</th>\n",
       "      <td>Show banners with current offers and sales on the main page. This will boost conversion</td>\n",
       "    </tr>\n",
       "    <tr>\n",
       "      <th>7</th>\n",
       "      <td>Add a subscription form to all the main pages. This will help you compile a mailing list</td>\n",
       "    </tr>\n",
       "    <tr>\n",
       "      <th>8</th>\n",
       "      <td>Launch a promotion that gives users discounts on their birthdays</td>\n",
       "    </tr>\n",
       "  </tbody>\n",
       "</table>\n",
       "</div>"
      ],
      "text/plain": [
       "                                                                                                               Hypothesis\n",
       "0                                             Add two new channels for attracting traffic. This will bring 30% more users\n",
       "1                                                       Launch your own delivery service. This will shorten delivery time\n",
       "2          Add product recommendation blocks to the store's site. This will increase conversion and average purchase size\n",
       "3  Change the category structure. This will increase conversion since users will find the products they want more quickly\n",
       "4                                        Change the background color on the main page. This will increase user engagement\n",
       "5                                                     Add a customer review page. This will increase the number of orders\n",
       "6                                 Show banners with current offers and sales on the main page. This will boost conversion\n",
       "7                                Add a subscription form to all the main pages. This will help you compile a mailing list\n",
       "8                                                        Launch a promotion that gives users discounts on their birthdays"
      ]
     },
     "execution_count": 8,
     "metadata": {},
     "output_type": "execute_result"
    }
   ],
   "source": [
    "pd.set_option('display.max_colwidth', None)\n",
    "hypotheses[['Hypothesis']]"
   ]
  },
  {
   "cell_type": "markdown",
   "metadata": {},
   "source": [
    "*Conclusion*: we can already see that we don't have any missing data, or unlogical values in numeric variables. This table is ready for analysis."
   ]
  },
  {
   "cell_type": "code",
   "execution_count": 9,
   "metadata": {},
   "outputs": [
    {
     "name": "stdout",
     "output_type": "stream",
     "text": [
      "<class 'pandas.core.frame.DataFrame'>\n",
      "RangeIndex: 62 entries, 0 to 61\n",
      "Data columns (total 3 columns):\n",
      " #   Column  Non-Null Count  Dtype \n",
      "---  ------  --------------  ----- \n",
      " 0   date    62 non-null     object\n",
      " 1   group   62 non-null     object\n",
      " 2   visits  62 non-null     int64 \n",
      "dtypes: int64(1), object(2)\n",
      "memory usage: 1.6+ KB\n"
     ]
    }
   ],
   "source": [
    "visits.info()"
   ]
  },
  {
   "cell_type": "code",
   "execution_count": 10,
   "metadata": {},
   "outputs": [
    {
     "data": {
      "text/html": [
       "<div>\n",
       "<style scoped>\n",
       "    .dataframe tbody tr th:only-of-type {\n",
       "        vertical-align: middle;\n",
       "    }\n",
       "\n",
       "    .dataframe tbody tr th {\n",
       "        vertical-align: top;\n",
       "    }\n",
       "\n",
       "    .dataframe thead th {\n",
       "        text-align: right;\n",
       "    }\n",
       "</style>\n",
       "<table border=\"1\" class=\"dataframe\">\n",
       "  <thead>\n",
       "    <tr style=\"text-align: right;\">\n",
       "      <th></th>\n",
       "      <th>date</th>\n",
       "      <th>group</th>\n",
       "      <th>visits</th>\n",
       "    </tr>\n",
       "  </thead>\n",
       "  <tbody>\n",
       "    <tr>\n",
       "      <th>0</th>\n",
       "      <td>2019-08-01</td>\n",
       "      <td>A</td>\n",
       "      <td>719</td>\n",
       "    </tr>\n",
       "    <tr>\n",
       "      <th>1</th>\n",
       "      <td>2019-08-02</td>\n",
       "      <td>A</td>\n",
       "      <td>619</td>\n",
       "    </tr>\n",
       "    <tr>\n",
       "      <th>2</th>\n",
       "      <td>2019-08-03</td>\n",
       "      <td>A</td>\n",
       "      <td>507</td>\n",
       "    </tr>\n",
       "    <tr>\n",
       "      <th>3</th>\n",
       "      <td>2019-08-04</td>\n",
       "      <td>A</td>\n",
       "      <td>717</td>\n",
       "    </tr>\n",
       "    <tr>\n",
       "      <th>4</th>\n",
       "      <td>2019-08-05</td>\n",
       "      <td>A</td>\n",
       "      <td>756</td>\n",
       "    </tr>\n",
       "  </tbody>\n",
       "</table>\n",
       "</div>"
      ],
      "text/plain": [
       "         date group  visits\n",
       "0  2019-08-01     A     719\n",
       "1  2019-08-02     A     619\n",
       "2  2019-08-03     A     507\n",
       "3  2019-08-04     A     717\n",
       "4  2019-08-05     A     756"
      ]
     },
     "execution_count": 10,
     "metadata": {},
     "output_type": "execute_result"
    }
   ],
   "source": [
    "visits.head()"
   ]
  },
  {
   "cell_type": "code",
   "execution_count": 11,
   "metadata": {},
   "outputs": [
    {
     "data": {
      "text/html": [
       "<div>\n",
       "<style scoped>\n",
       "    .dataframe tbody tr th:only-of-type {\n",
       "        vertical-align: middle;\n",
       "    }\n",
       "\n",
       "    .dataframe tbody tr th {\n",
       "        vertical-align: top;\n",
       "    }\n",
       "\n",
       "    .dataframe thead th {\n",
       "        text-align: right;\n",
       "    }\n",
       "</style>\n",
       "<table border=\"1\" class=\"dataframe\">\n",
       "  <thead>\n",
       "    <tr style=\"text-align: right;\">\n",
       "      <th></th>\n",
       "      <th>date</th>\n",
       "      <th>group</th>\n",
       "      <th>visits</th>\n",
       "    </tr>\n",
       "  </thead>\n",
       "  <tbody>\n",
       "    <tr>\n",
       "      <th>57</th>\n",
       "      <td>2019-08-27</td>\n",
       "      <td>B</td>\n",
       "      <td>720</td>\n",
       "    </tr>\n",
       "    <tr>\n",
       "      <th>58</th>\n",
       "      <td>2019-08-28</td>\n",
       "      <td>B</td>\n",
       "      <td>654</td>\n",
       "    </tr>\n",
       "    <tr>\n",
       "      <th>59</th>\n",
       "      <td>2019-08-29</td>\n",
       "      <td>B</td>\n",
       "      <td>531</td>\n",
       "    </tr>\n",
       "    <tr>\n",
       "      <th>60</th>\n",
       "      <td>2019-08-30</td>\n",
       "      <td>B</td>\n",
       "      <td>490</td>\n",
       "    </tr>\n",
       "    <tr>\n",
       "      <th>61</th>\n",
       "      <td>2019-08-31</td>\n",
       "      <td>B</td>\n",
       "      <td>718</td>\n",
       "    </tr>\n",
       "  </tbody>\n",
       "</table>\n",
       "</div>"
      ],
      "text/plain": [
       "          date group  visits\n",
       "57  2019-08-27     B     720\n",
       "58  2019-08-28     B     654\n",
       "59  2019-08-29     B     531\n",
       "60  2019-08-30     B     490\n",
       "61  2019-08-31     B     718"
      ]
     },
     "execution_count": 11,
     "metadata": {},
     "output_type": "execute_result"
    }
   ],
   "source": [
    "visits.tail()"
   ]
  },
  {
   "cell_type": "markdown",
   "metadata": {},
   "source": [
    "There's another small dataset with only 62 rows and 3 columns, the data is preaggregated, and looks sorted by `date` and by `group`. `date` column is an object type and we'll need to change it to datetime. `group` column can be changed to `category` type."
   ]
  },
  {
   "cell_type": "code",
   "execution_count": 12,
   "metadata": {},
   "outputs": [
    {
     "data": {
      "text/html": [
       "<style type=\"text/css\">\n",
       "</style>\n",
       "<table id=\"T_dbe8c\">\n",
       "  <thead>\n",
       "    <tr>\n",
       "      <th class=\"blank level0\" >&nbsp;</th>\n",
       "      <th id=\"T_dbe8c_level0_col0\" class=\"col_heading level0 col0\" >missing</th>\n",
       "      <th id=\"T_dbe8c_level0_col1\" class=\"col_heading level0 col1\" >total</th>\n",
       "      <th id=\"T_dbe8c_level0_col2\" class=\"col_heading level0 col2\" >percent</th>\n",
       "    </tr>\n",
       "  </thead>\n",
       "  <tbody>\n",
       "    <tr>\n",
       "      <th id=\"T_dbe8c_level0_row0\" class=\"row_heading level0 row0\" >date</th>\n",
       "      <td id=\"T_dbe8c_row0_col0\" class=\"data row0 col0\" >0</td>\n",
       "      <td id=\"T_dbe8c_row0_col1\" class=\"data row0 col1\" >62</td>\n",
       "      <td id=\"T_dbe8c_row0_col2\" class=\"data row0 col2\" >0.00%</td>\n",
       "    </tr>\n",
       "    <tr>\n",
       "      <th id=\"T_dbe8c_level0_row1\" class=\"row_heading level0 row1\" >group</th>\n",
       "      <td id=\"T_dbe8c_row1_col0\" class=\"data row1 col0\" >0</td>\n",
       "      <td id=\"T_dbe8c_row1_col1\" class=\"data row1 col1\" >62</td>\n",
       "      <td id=\"T_dbe8c_row1_col2\" class=\"data row1 col2\" >0.00%</td>\n",
       "    </tr>\n",
       "    <tr>\n",
       "      <th id=\"T_dbe8c_level0_row2\" class=\"row_heading level0 row2\" >visits</th>\n",
       "      <td id=\"T_dbe8c_row2_col0\" class=\"data row2 col0\" >0</td>\n",
       "      <td id=\"T_dbe8c_row2_col1\" class=\"data row2 col1\" >62</td>\n",
       "      <td id=\"T_dbe8c_row2_col2\" class=\"data row2 col2\" >0.00%</td>\n",
       "    </tr>\n",
       "  </tbody>\n",
       "</table>\n"
      ],
      "text/plain": [
       "<pandas.io.formats.style.Styler at 0x26688a67580>"
      ]
     },
     "execution_count": 12,
     "metadata": {},
     "output_type": "execute_result"
    }
   ],
   "source": [
    "visits.stb.missing(style=True)"
   ]
  },
  {
   "cell_type": "markdown",
   "metadata": {},
   "source": [
    "No missing data."
   ]
  },
  {
   "cell_type": "code",
   "execution_count": 13,
   "metadata": {},
   "outputs": [
    {
     "data": {
      "text/html": [
       "<div>\n",
       "<style scoped>\n",
       "    .dataframe tbody tr th:only-of-type {\n",
       "        vertical-align: middle;\n",
       "    }\n",
       "\n",
       "    .dataframe tbody tr th {\n",
       "        vertical-align: top;\n",
       "    }\n",
       "\n",
       "    .dataframe thead th {\n",
       "        text-align: right;\n",
       "    }\n",
       "</style>\n",
       "<table border=\"1\" class=\"dataframe\">\n",
       "  <thead>\n",
       "    <tr style=\"text-align: right;\">\n",
       "      <th></th>\n",
       "      <th>date</th>\n",
       "      <th>group</th>\n",
       "    </tr>\n",
       "  </thead>\n",
       "  <tbody>\n",
       "    <tr>\n",
       "      <th>count</th>\n",
       "      <td>62</td>\n",
       "      <td>62</td>\n",
       "    </tr>\n",
       "    <tr>\n",
       "      <th>unique</th>\n",
       "      <td>31</td>\n",
       "      <td>2</td>\n",
       "    </tr>\n",
       "    <tr>\n",
       "      <th>top</th>\n",
       "      <td>2019-08-01</td>\n",
       "      <td>A</td>\n",
       "    </tr>\n",
       "    <tr>\n",
       "      <th>freq</th>\n",
       "      <td>2</td>\n",
       "      <td>31</td>\n",
       "    </tr>\n",
       "  </tbody>\n",
       "</table>\n",
       "</div>"
      ],
      "text/plain": [
       "              date group\n",
       "count           62    62\n",
       "unique          31     2\n",
       "top     2019-08-01     A\n",
       "freq             2    31"
      ]
     },
     "execution_count": 13,
     "metadata": {},
     "output_type": "execute_result"
    }
   ],
   "source": [
    "visits.describe(include=['object'])"
   ]
  },
  {
   "cell_type": "markdown",
   "metadata": {},
   "source": [
    "Looks like we have data for 1 month, 31 day x2 groups = 62 rows, looks ok."
   ]
  },
  {
   "cell_type": "code",
   "execution_count": 14,
   "metadata": {},
   "outputs": [
    {
     "name": "stdout",
     "output_type": "stream",
     "text": [
      "<class 'pandas.core.frame.DataFrame'>\n",
      "RangeIndex: 1197 entries, 0 to 1196\n",
      "Data columns (total 5 columns):\n",
      " #   Column         Non-Null Count  Dtype  \n",
      "---  ------         --------------  -----  \n",
      " 0   transactionId  1197 non-null   int64  \n",
      " 1   visitorId      1197 non-null   int64  \n",
      " 2   date           1197 non-null   object \n",
      " 3   revenue        1197 non-null   float64\n",
      " 4   group          1197 non-null   object \n",
      "dtypes: float64(1), int64(2), object(2)\n",
      "memory usage: 46.9+ KB\n"
     ]
    }
   ],
   "source": [
    "orders.info()"
   ]
  },
  {
   "cell_type": "code",
   "execution_count": 15,
   "metadata": {},
   "outputs": [
    {
     "data": {
      "text/html": [
       "<div>\n",
       "<style scoped>\n",
       "    .dataframe tbody tr th:only-of-type {\n",
       "        vertical-align: middle;\n",
       "    }\n",
       "\n",
       "    .dataframe tbody tr th {\n",
       "        vertical-align: top;\n",
       "    }\n",
       "\n",
       "    .dataframe thead th {\n",
       "        text-align: right;\n",
       "    }\n",
       "</style>\n",
       "<table border=\"1\" class=\"dataframe\">\n",
       "  <thead>\n",
       "    <tr style=\"text-align: right;\">\n",
       "      <th></th>\n",
       "      <th>transactionId</th>\n",
       "      <th>visitorId</th>\n",
       "      <th>date</th>\n",
       "      <th>revenue</th>\n",
       "      <th>group</th>\n",
       "    </tr>\n",
       "  </thead>\n",
       "  <tbody>\n",
       "    <tr>\n",
       "      <th>0</th>\n",
       "      <td>3667963787</td>\n",
       "      <td>3312258926</td>\n",
       "      <td>2019-08-15</td>\n",
       "      <td>30.4</td>\n",
       "      <td>B</td>\n",
       "    </tr>\n",
       "    <tr>\n",
       "      <th>1</th>\n",
       "      <td>2804400009</td>\n",
       "      <td>3642806036</td>\n",
       "      <td>2019-08-15</td>\n",
       "      <td>15.2</td>\n",
       "      <td>B</td>\n",
       "    </tr>\n",
       "    <tr>\n",
       "      <th>2</th>\n",
       "      <td>2961555356</td>\n",
       "      <td>4069496402</td>\n",
       "      <td>2019-08-15</td>\n",
       "      <td>10.2</td>\n",
       "      <td>A</td>\n",
       "    </tr>\n",
       "    <tr>\n",
       "      <th>3</th>\n",
       "      <td>3797467345</td>\n",
       "      <td>1196621759</td>\n",
       "      <td>2019-08-15</td>\n",
       "      <td>155.1</td>\n",
       "      <td>B</td>\n",
       "    </tr>\n",
       "    <tr>\n",
       "      <th>4</th>\n",
       "      <td>2282983706</td>\n",
       "      <td>2322279887</td>\n",
       "      <td>2019-08-15</td>\n",
       "      <td>40.5</td>\n",
       "      <td>B</td>\n",
       "    </tr>\n",
       "    <tr>\n",
       "      <th>5</th>\n",
       "      <td>182168103</td>\n",
       "      <td>935554773</td>\n",
       "      <td>2019-08-15</td>\n",
       "      <td>35.0</td>\n",
       "      <td>B</td>\n",
       "    </tr>\n",
       "    <tr>\n",
       "      <th>6</th>\n",
       "      <td>398296753</td>\n",
       "      <td>2900797465</td>\n",
       "      <td>2019-08-15</td>\n",
       "      <td>30.6</td>\n",
       "      <td>B</td>\n",
       "    </tr>\n",
       "    <tr>\n",
       "      <th>7</th>\n",
       "      <td>2626614568</td>\n",
       "      <td>78758296</td>\n",
       "      <td>2019-08-15</td>\n",
       "      <td>20.1</td>\n",
       "      <td>A</td>\n",
       "    </tr>\n",
       "    <tr>\n",
       "      <th>8</th>\n",
       "      <td>1576988021</td>\n",
       "      <td>295230930</td>\n",
       "      <td>2019-08-15</td>\n",
       "      <td>215.9</td>\n",
       "      <td>A</td>\n",
       "    </tr>\n",
       "    <tr>\n",
       "      <th>9</th>\n",
       "      <td>1506739906</td>\n",
       "      <td>1882260405</td>\n",
       "      <td>2019-08-15</td>\n",
       "      <td>30.5</td>\n",
       "      <td>B</td>\n",
       "    </tr>\n",
       "  </tbody>\n",
       "</table>\n",
       "</div>"
      ],
      "text/plain": [
       "   transactionId   visitorId        date  revenue group\n",
       "0     3667963787  3312258926  2019-08-15     30.4     B\n",
       "1     2804400009  3642806036  2019-08-15     15.2     B\n",
       "2     2961555356  4069496402  2019-08-15     10.2     A\n",
       "3     3797467345  1196621759  2019-08-15    155.1     B\n",
       "4     2282983706  2322279887  2019-08-15     40.5     B\n",
       "5      182168103   935554773  2019-08-15     35.0     B\n",
       "6      398296753  2900797465  2019-08-15     30.6     B\n",
       "7     2626614568    78758296  2019-08-15     20.1     A\n",
       "8     1576988021   295230930  2019-08-15    215.9     A\n",
       "9     1506739906  1882260405  2019-08-15     30.5     B"
      ]
     },
     "execution_count": 15,
     "metadata": {},
     "output_type": "execute_result"
    }
   ],
   "source": [
    "orders.head(10)"
   ]
  },
  {
   "cell_type": "code",
   "execution_count": 16,
   "metadata": {},
   "outputs": [
    {
     "data": {
      "text/html": [
       "<div>\n",
       "<style scoped>\n",
       "    .dataframe tbody tr th:only-of-type {\n",
       "        vertical-align: middle;\n",
       "    }\n",
       "\n",
       "    .dataframe tbody tr th {\n",
       "        vertical-align: top;\n",
       "    }\n",
       "\n",
       "    .dataframe thead th {\n",
       "        text-align: right;\n",
       "    }\n",
       "</style>\n",
       "<table border=\"1\" class=\"dataframe\">\n",
       "  <thead>\n",
       "    <tr style=\"text-align: right;\">\n",
       "      <th></th>\n",
       "      <th>transactionId</th>\n",
       "      <th>visitorId</th>\n",
       "      <th>date</th>\n",
       "      <th>revenue</th>\n",
       "      <th>group</th>\n",
       "    </tr>\n",
       "  </thead>\n",
       "  <tbody>\n",
       "    <tr>\n",
       "      <th>1187</th>\n",
       "      <td>2274188238</td>\n",
       "      <td>132143192</td>\n",
       "      <td>2019-08-14</td>\n",
       "      <td>15.5</td>\n",
       "      <td>A</td>\n",
       "    </tr>\n",
       "    <tr>\n",
       "      <th>1188</th>\n",
       "      <td>1692103379</td>\n",
       "      <td>1022829655</td>\n",
       "      <td>2019-08-14</td>\n",
       "      <td>5.7</td>\n",
       "      <td>A</td>\n",
       "    </tr>\n",
       "    <tr>\n",
       "      <th>1189</th>\n",
       "      <td>4082620617</td>\n",
       "      <td>393266494</td>\n",
       "      <td>2019-08-14</td>\n",
       "      <td>490.4</td>\n",
       "      <td>B</td>\n",
       "    </tr>\n",
       "    <tr>\n",
       "      <th>1190</th>\n",
       "      <td>38478481</td>\n",
       "      <td>1197745035</td>\n",
       "      <td>2019-08-14</td>\n",
       "      <td>135.3</td>\n",
       "      <td>B</td>\n",
       "    </tr>\n",
       "    <tr>\n",
       "      <th>1191</th>\n",
       "      <td>3592955527</td>\n",
       "      <td>608641596</td>\n",
       "      <td>2019-08-14</td>\n",
       "      <td>255.7</td>\n",
       "      <td>B</td>\n",
       "    </tr>\n",
       "    <tr>\n",
       "      <th>1192</th>\n",
       "      <td>2662137336</td>\n",
       "      <td>3733762160</td>\n",
       "      <td>2019-08-14</td>\n",
       "      <td>100.8</td>\n",
       "      <td>B</td>\n",
       "    </tr>\n",
       "    <tr>\n",
       "      <th>1193</th>\n",
       "      <td>2203539145</td>\n",
       "      <td>370388673</td>\n",
       "      <td>2019-08-14</td>\n",
       "      <td>50.1</td>\n",
       "      <td>A</td>\n",
       "    </tr>\n",
       "    <tr>\n",
       "      <th>1194</th>\n",
       "      <td>1807773912</td>\n",
       "      <td>573423106</td>\n",
       "      <td>2019-08-14</td>\n",
       "      <td>165.3</td>\n",
       "      <td>A</td>\n",
       "    </tr>\n",
       "    <tr>\n",
       "      <th>1195</th>\n",
       "      <td>1947021204</td>\n",
       "      <td>1614305549</td>\n",
       "      <td>2019-08-14</td>\n",
       "      <td>5.5</td>\n",
       "      <td>A</td>\n",
       "    </tr>\n",
       "    <tr>\n",
       "      <th>1196</th>\n",
       "      <td>3936777065</td>\n",
       "      <td>2108080724</td>\n",
       "      <td>2019-08-15</td>\n",
       "      <td>3120.1</td>\n",
       "      <td>B</td>\n",
       "    </tr>\n",
       "  </tbody>\n",
       "</table>\n",
       "</div>"
      ],
      "text/plain": [
       "      transactionId   visitorId        date  revenue group\n",
       "1187     2274188238   132143192  2019-08-14     15.5     A\n",
       "1188     1692103379  1022829655  2019-08-14      5.7     A\n",
       "1189     4082620617   393266494  2019-08-14    490.4     B\n",
       "1190       38478481  1197745035  2019-08-14    135.3     B\n",
       "1191     3592955527   608641596  2019-08-14    255.7     B\n",
       "1192     2662137336  3733762160  2019-08-14    100.8     B\n",
       "1193     2203539145   370388673  2019-08-14     50.1     A\n",
       "1194     1807773912   573423106  2019-08-14    165.3     A\n",
       "1195     1947021204  1614305549  2019-08-14      5.5     A\n",
       "1196     3936777065  2108080724  2019-08-15   3120.1     B"
      ]
     },
     "execution_count": 16,
     "metadata": {},
     "output_type": "execute_result"
    }
   ],
   "source": [
    "orders.tail(10)"
   ]
  },
  {
   "cell_type": "markdown",
   "metadata": {},
   "source": [
    "*Conclusion*: this one is the biggest dataset we have, but still it is small, only 1197 rows and 5 columns. As in the previous table, we'll need to change `date` column to datetime, and `group` column to `category`. We'll leave other columns as they are as the dataframe is really small and there's no need in further compression. But we could have changed revenue to `float16` for example."
   ]
  },
  {
   "cell_type": "code",
   "execution_count": 17,
   "metadata": {},
   "outputs": [
    {
     "data": {
      "text/html": [
       "<style type=\"text/css\">\n",
       "</style>\n",
       "<table id=\"T_2b4b6\">\n",
       "  <thead>\n",
       "    <tr>\n",
       "      <th class=\"blank level0\" >&nbsp;</th>\n",
       "      <th id=\"T_2b4b6_level0_col0\" class=\"col_heading level0 col0\" >missing</th>\n",
       "      <th id=\"T_2b4b6_level0_col1\" class=\"col_heading level0 col1\" >total</th>\n",
       "      <th id=\"T_2b4b6_level0_col2\" class=\"col_heading level0 col2\" >percent</th>\n",
       "    </tr>\n",
       "  </thead>\n",
       "  <tbody>\n",
       "    <tr>\n",
       "      <th id=\"T_2b4b6_level0_row0\" class=\"row_heading level0 row0\" >transactionId</th>\n",
       "      <td id=\"T_2b4b6_row0_col0\" class=\"data row0 col0\" >0</td>\n",
       "      <td id=\"T_2b4b6_row0_col1\" class=\"data row0 col1\" >1,197</td>\n",
       "      <td id=\"T_2b4b6_row0_col2\" class=\"data row0 col2\" >0.00%</td>\n",
       "    </tr>\n",
       "    <tr>\n",
       "      <th id=\"T_2b4b6_level0_row1\" class=\"row_heading level0 row1\" >visitorId</th>\n",
       "      <td id=\"T_2b4b6_row1_col0\" class=\"data row1 col0\" >0</td>\n",
       "      <td id=\"T_2b4b6_row1_col1\" class=\"data row1 col1\" >1,197</td>\n",
       "      <td id=\"T_2b4b6_row1_col2\" class=\"data row1 col2\" >0.00%</td>\n",
       "    </tr>\n",
       "    <tr>\n",
       "      <th id=\"T_2b4b6_level0_row2\" class=\"row_heading level0 row2\" >date</th>\n",
       "      <td id=\"T_2b4b6_row2_col0\" class=\"data row2 col0\" >0</td>\n",
       "      <td id=\"T_2b4b6_row2_col1\" class=\"data row2 col1\" >1,197</td>\n",
       "      <td id=\"T_2b4b6_row2_col2\" class=\"data row2 col2\" >0.00%</td>\n",
       "    </tr>\n",
       "    <tr>\n",
       "      <th id=\"T_2b4b6_level0_row3\" class=\"row_heading level0 row3\" >revenue</th>\n",
       "      <td id=\"T_2b4b6_row3_col0\" class=\"data row3 col0\" >0</td>\n",
       "      <td id=\"T_2b4b6_row3_col1\" class=\"data row3 col1\" >1,197</td>\n",
       "      <td id=\"T_2b4b6_row3_col2\" class=\"data row3 col2\" >0.00%</td>\n",
       "    </tr>\n",
       "    <tr>\n",
       "      <th id=\"T_2b4b6_level0_row4\" class=\"row_heading level0 row4\" >group</th>\n",
       "      <td id=\"T_2b4b6_row4_col0\" class=\"data row4 col0\" >0</td>\n",
       "      <td id=\"T_2b4b6_row4_col1\" class=\"data row4 col1\" >1,197</td>\n",
       "      <td id=\"T_2b4b6_row4_col2\" class=\"data row4 col2\" >0.00%</td>\n",
       "    </tr>\n",
       "  </tbody>\n",
       "</table>\n"
      ],
      "text/plain": [
       "<pandas.io.formats.style.Styler at 0x26688bb6a00>"
      ]
     },
     "execution_count": 17,
     "metadata": {},
     "output_type": "execute_result"
    }
   ],
   "source": [
    "orders.stb.missing(style=True)"
   ]
  },
  {
   "cell_type": "markdown",
   "metadata": {},
   "source": [
    "Looks like we don't have any missing values here either."
   ]
  },
  {
   "cell_type": "code",
   "execution_count": 18,
   "metadata": {},
   "outputs": [
    {
     "data": {
      "text/html": [
       "<div>\n",
       "<style scoped>\n",
       "    .dataframe tbody tr th:only-of-type {\n",
       "        vertical-align: middle;\n",
       "    }\n",
       "\n",
       "    .dataframe tbody tr th {\n",
       "        vertical-align: top;\n",
       "    }\n",
       "\n",
       "    .dataframe thead th {\n",
       "        text-align: right;\n",
       "    }\n",
       "</style>\n",
       "<table border=\"1\" class=\"dataframe\">\n",
       "  <thead>\n",
       "    <tr style=\"text-align: right;\">\n",
       "      <th></th>\n",
       "      <th>transactionId</th>\n",
       "      <th>visitorId</th>\n",
       "      <th>revenue</th>\n",
       "    </tr>\n",
       "  </thead>\n",
       "  <tbody>\n",
       "    <tr>\n",
       "      <th>count</th>\n",
       "      <td>1.197000e+03</td>\n",
       "      <td>1.197000e+03</td>\n",
       "      <td>1197.000000</td>\n",
       "    </tr>\n",
       "    <tr>\n",
       "      <th>mean</th>\n",
       "      <td>2.155621e+09</td>\n",
       "      <td>2.165960e+09</td>\n",
       "      <td>131.491646</td>\n",
       "    </tr>\n",
       "    <tr>\n",
       "      <th>std</th>\n",
       "      <td>1.229085e+09</td>\n",
       "      <td>1.236014e+09</td>\n",
       "      <td>603.004729</td>\n",
       "    </tr>\n",
       "    <tr>\n",
       "      <th>min</th>\n",
       "      <td>1.062393e+06</td>\n",
       "      <td>5.114589e+06</td>\n",
       "      <td>5.000000</td>\n",
       "    </tr>\n",
       "    <tr>\n",
       "      <th>25%</th>\n",
       "      <td>1.166776e+09</td>\n",
       "      <td>1.111826e+09</td>\n",
       "      <td>20.800000</td>\n",
       "    </tr>\n",
       "    <tr>\n",
       "      <th>50%</th>\n",
       "      <td>2.145194e+09</td>\n",
       "      <td>2.217985e+09</td>\n",
       "      <td>50.200000</td>\n",
       "    </tr>\n",
       "    <tr>\n",
       "      <th>75%</th>\n",
       "      <td>3.237740e+09</td>\n",
       "      <td>3.177606e+09</td>\n",
       "      <td>130.400000</td>\n",
       "    </tr>\n",
       "    <tr>\n",
       "      <th>max</th>\n",
       "      <td>4.293856e+09</td>\n",
       "      <td>4.283872e+09</td>\n",
       "      <td>19920.400000</td>\n",
       "    </tr>\n",
       "  </tbody>\n",
       "</table>\n",
       "</div>"
      ],
      "text/plain": [
       "       transactionId     visitorId       revenue\n",
       "count   1.197000e+03  1.197000e+03   1197.000000\n",
       "mean    2.155621e+09  2.165960e+09    131.491646\n",
       "std     1.229085e+09  1.236014e+09    603.004729\n",
       "min     1.062393e+06  5.114589e+06      5.000000\n",
       "25%     1.166776e+09  1.111826e+09     20.800000\n",
       "50%     2.145194e+09  2.217985e+09     50.200000\n",
       "75%     3.237740e+09  3.177606e+09    130.400000\n",
       "max     4.293856e+09  4.283872e+09  19920.400000"
      ]
     },
     "execution_count": 18,
     "metadata": {},
     "output_type": "execute_result"
    }
   ],
   "source": [
    "orders.describe()"
   ]
  },
  {
   "cell_type": "code",
   "execution_count": 19,
   "metadata": {},
   "outputs": [
    {
     "data": {
      "text/html": [
       "<div>\n",
       "<style scoped>\n",
       "    .dataframe tbody tr th:only-of-type {\n",
       "        vertical-align: middle;\n",
       "    }\n",
       "\n",
       "    .dataframe tbody tr th {\n",
       "        vertical-align: top;\n",
       "    }\n",
       "\n",
       "    .dataframe thead th {\n",
       "        text-align: right;\n",
       "    }\n",
       "</style>\n",
       "<table border=\"1\" class=\"dataframe\">\n",
       "  <thead>\n",
       "    <tr style=\"text-align: right;\">\n",
       "      <th></th>\n",
       "      <th>date</th>\n",
       "      <th>group</th>\n",
       "    </tr>\n",
       "  </thead>\n",
       "  <tbody>\n",
       "    <tr>\n",
       "      <th>count</th>\n",
       "      <td>1197</td>\n",
       "      <td>1197</td>\n",
       "    </tr>\n",
       "    <tr>\n",
       "      <th>unique</th>\n",
       "      <td>31</td>\n",
       "      <td>2</td>\n",
       "    </tr>\n",
       "    <tr>\n",
       "      <th>top</th>\n",
       "      <td>2019-08-05</td>\n",
       "      <td>B</td>\n",
       "    </tr>\n",
       "    <tr>\n",
       "      <th>freq</th>\n",
       "      <td>48</td>\n",
       "      <td>640</td>\n",
       "    </tr>\n",
       "  </tbody>\n",
       "</table>\n",
       "</div>"
      ],
      "text/plain": [
       "              date group\n",
       "count         1197  1197\n",
       "unique          31     2\n",
       "top     2019-08-05     B\n",
       "freq            48   640"
      ]
     },
     "execution_count": 19,
     "metadata": {},
     "output_type": "execute_result"
    }
   ],
   "source": [
    "orders.describe(include=['object'])"
   ]
  },
  {
   "cell_type": "markdown",
   "metadata": {},
   "source": [
    "We can already see that a maximum value in `revenue` is an outlier, considering values of other quartiles. Other variables look ok."
   ]
  },
  {
   "cell_type": "markdown",
   "metadata": {},
   "source": [
    "<a id=\"conclusion\"></a>\n",
    "### Conclusion"
   ]
  },
  {
   "cell_type": "markdown",
   "metadata": {},
   "source": [
    "We have 3 datasets: \n",
    "\n",
    "1. `hypotheses` is a very small table of 9 rows and 3 columns, looks ok and ready to work. We won't change any data types, as the table is already very small.\n",
    "\n",
    "2. `visits` is a small preaggregated dataset, 62 rows and 3 columns, there are few things we can do before analysis:\n",
    "    * `date` needs to be changed from object to datetime\n",
    "    * `group` can be changed to `category` type.\n",
    "\n",
    "3. `orders` is biggest yet also small df, only 1197 rows and 5 columns. There only few things to do before the analysis:\n",
    "    * `date` needs to be changed from object to datetime\n",
    "    * `group` can be changed to `category` type\n",
    "    * additionally we'll check id columns for duplicates.\n",
    "\n",
    "After checking with help of sidetable we saw that none of the tables have missing data."
   ]
  },
  {
   "cell_type": "markdown",
   "metadata": {},
   "source": [
    "<a id=\"preprocessing\"></a>\n",
    "## Data preprocessing"
   ]
  },
  {
   "cell_type": "markdown",
   "metadata": {},
   "source": [
    "### Changing data types"
   ]
  },
  {
   "cell_type": "markdown",
   "metadata": {},
   "source": [
    "First of all, we'll change data types for `date` and `group` columns in `visits` df, then we'll do the same for `orders` table."
   ]
  },
  {
   "cell_type": "code",
   "execution_count": 20,
   "metadata": {},
   "outputs": [],
   "source": [
    "try:\n",
    "    visits['date'] = visits['date'].map(lambda x: dt.strptime(x, '%Y-%m-%d'))\n",
    "except:\n",
    "    print('Check the date format')"
   ]
  },
  {
   "cell_type": "code",
   "execution_count": 21,
   "metadata": {},
   "outputs": [],
   "source": [
    "visits['group'] = visits['group'].astype('category')"
   ]
  },
  {
   "cell_type": "code",
   "execution_count": 22,
   "metadata": {},
   "outputs": [
    {
     "name": "stdout",
     "output_type": "stream",
     "text": [
      "<class 'pandas.core.frame.DataFrame'>\n",
      "RangeIndex: 62 entries, 0 to 61\n",
      "Data columns (total 3 columns):\n",
      " #   Column  Non-Null Count  Dtype         \n",
      "---  ------  --------------  -----         \n",
      " 0   date    62 non-null     datetime64[ns]\n",
      " 1   group   62 non-null     category      \n",
      " 2   visits  62 non-null     int64         \n",
      "dtypes: category(1), datetime64[ns](1), int64(1)\n",
      "memory usage: 1.3 KB\n"
     ]
    }
   ],
   "source": [
    "visits.info()"
   ]
  },
  {
   "cell_type": "code",
   "execution_count": 23,
   "metadata": {},
   "outputs": [],
   "source": [
    "try:\n",
    "    orders['date'] = orders['date'].map(lambda x: dt.strptime(x, '%Y-%m-%d'))\n",
    "except:\n",
    "    print('Check the date format')"
   ]
  },
  {
   "cell_type": "code",
   "execution_count": 24,
   "metadata": {},
   "outputs": [],
   "source": [
    "orders['group'] = orders['group'].astype('category')"
   ]
  },
  {
   "cell_type": "code",
   "execution_count": 25,
   "metadata": {},
   "outputs": [
    {
     "name": "stdout",
     "output_type": "stream",
     "text": [
      "<class 'pandas.core.frame.DataFrame'>\n",
      "RangeIndex: 1197 entries, 0 to 1196\n",
      "Data columns (total 5 columns):\n",
      " #   Column         Non-Null Count  Dtype         \n",
      "---  ------         --------------  -----         \n",
      " 0   transactionId  1197 non-null   int64         \n",
      " 1   visitorId      1197 non-null   int64         \n",
      " 2   date           1197 non-null   datetime64[ns]\n",
      " 3   revenue        1197 non-null   float64       \n",
      " 4   group          1197 non-null   category      \n",
      "dtypes: category(1), datetime64[ns](1), float64(1), int64(2)\n",
      "memory usage: 38.8 KB\n"
     ]
    }
   ],
   "source": [
    "orders.info()"
   ]
  },
  {
   "cell_type": "markdown",
   "metadata": {},
   "source": [
    "### Duplicates"
   ]
  },
  {
   "cell_type": "code",
   "execution_count": 26,
   "metadata": {},
   "outputs": [
    {
     "data": {
      "text/plain": [
       "0"
      ]
     },
     "execution_count": 26,
     "metadata": {},
     "output_type": "execute_result"
    }
   ],
   "source": [
    "orders['transactionId'].duplicated().sum()"
   ]
  },
  {
   "cell_type": "markdown",
   "metadata": {},
   "source": [
    "Let's check wether we have users in both groups."
   ]
  },
  {
   "cell_type": "code",
   "execution_count": 27,
   "metadata": {},
   "outputs": [
    {
     "data": {
      "text/html": [
       "<div>\n",
       "<style scoped>\n",
       "    .dataframe tbody tr th:only-of-type {\n",
       "        vertical-align: middle;\n",
       "    }\n",
       "\n",
       "    .dataframe tbody tr th {\n",
       "        vertical-align: top;\n",
       "    }\n",
       "\n",
       "    .dataframe thead th {\n",
       "        text-align: right;\n",
       "    }\n",
       "</style>\n",
       "<table border=\"1\" class=\"dataframe\">\n",
       "  <thead>\n",
       "    <tr style=\"text-align: right;\">\n",
       "      <th></th>\n",
       "      <th>visitorId</th>\n",
       "      <th>group</th>\n",
       "    </tr>\n",
       "  </thead>\n",
       "  <tbody>\n",
       "    <tr>\n",
       "      <th>639</th>\n",
       "      <td>2654030115</td>\n",
       "      <td>2</td>\n",
       "    </tr>\n",
       "    <tr>\n",
       "      <th>932</th>\n",
       "      <td>3891541246</td>\n",
       "      <td>2</td>\n",
       "    </tr>\n",
       "    <tr>\n",
       "      <th>950</th>\n",
       "      <td>3941795274</td>\n",
       "      <td>2</td>\n",
       "    </tr>\n",
       "    <tr>\n",
       "      <th>340</th>\n",
       "      <td>1404934699</td>\n",
       "      <td>2</td>\n",
       "    </tr>\n",
       "    <tr>\n",
       "      <th>84</th>\n",
       "      <td>351125977</td>\n",
       "      <td>2</td>\n",
       "    </tr>\n",
       "    <tr>\n",
       "      <th>...</th>\n",
       "      <td>...</td>\n",
       "      <td>...</td>\n",
       "    </tr>\n",
       "    <tr>\n",
       "      <th>357</th>\n",
       "      <td>1476256851</td>\n",
       "      <td>1</td>\n",
       "    </tr>\n",
       "    <tr>\n",
       "      <th>358</th>\n",
       "      <td>1476741193</td>\n",
       "      <td>1</td>\n",
       "    </tr>\n",
       "    <tr>\n",
       "      <th>359</th>\n",
       "      <td>1484903144</td>\n",
       "      <td>1</td>\n",
       "    </tr>\n",
       "    <tr>\n",
       "      <th>360</th>\n",
       "      <td>1485964287</td>\n",
       "      <td>1</td>\n",
       "    </tr>\n",
       "    <tr>\n",
       "      <th>1030</th>\n",
       "      <td>4283872382</td>\n",
       "      <td>1</td>\n",
       "    </tr>\n",
       "  </tbody>\n",
       "</table>\n",
       "<p>1031 rows × 2 columns</p>\n",
       "</div>"
      ],
      "text/plain": [
       "       visitorId  group\n",
       "639   2654030115      2\n",
       "932   3891541246      2\n",
       "950   3941795274      2\n",
       "340   1404934699      2\n",
       "84     351125977      2\n",
       "...          ...    ...\n",
       "357   1476256851      1\n",
       "358   1476741193      1\n",
       "359   1484903144      1\n",
       "360   1485964287      1\n",
       "1030  4283872382      1\n",
       "\n",
       "[1031 rows x 2 columns]"
      ]
     },
     "execution_count": 27,
     "metadata": {},
     "output_type": "execute_result"
    }
   ],
   "source": [
    "def_dupl = orders.groupby('visitorId')['group'].agg('nunique').reset_index().sort_values(by=['group'], ascending=False)\n",
    "def_dupl"
   ]
  },
  {
   "cell_type": "markdown",
   "metadata": {},
   "source": [
    "To check ourselves, we can pass some of these ids in this box:"
   ]
  },
  {
   "cell_type": "code",
   "execution_count": 28,
   "metadata": {},
   "outputs": [
    {
     "data": {
      "text/html": [
       "<div>\n",
       "<style scoped>\n",
       "    .dataframe tbody tr th:only-of-type {\n",
       "        vertical-align: middle;\n",
       "    }\n",
       "\n",
       "    .dataframe tbody tr th {\n",
       "        vertical-align: top;\n",
       "    }\n",
       "\n",
       "    .dataframe thead th {\n",
       "        text-align: right;\n",
       "    }\n",
       "</style>\n",
       "<table border=\"1\" class=\"dataframe\">\n",
       "  <thead>\n",
       "    <tr style=\"text-align: right;\">\n",
       "      <th></th>\n",
       "      <th>transactionId</th>\n",
       "      <th>visitorId</th>\n",
       "      <th>date</th>\n",
       "      <th>revenue</th>\n",
       "      <th>group</th>\n",
       "    </tr>\n",
       "  </thead>\n",
       "  <tbody>\n",
       "    <tr>\n",
       "      <th>159</th>\n",
       "      <td>1170827001</td>\n",
       "      <td>3891541246</td>\n",
       "      <td>2019-08-22</td>\n",
       "      <td>20.2</td>\n",
       "      <td>A</td>\n",
       "    </tr>\n",
       "    <tr>\n",
       "      <th>606</th>\n",
       "      <td>4007826947</td>\n",
       "      <td>3891541246</td>\n",
       "      <td>2019-08-04</td>\n",
       "      <td>10.4</td>\n",
       "      <td>B</td>\n",
       "    </tr>\n",
       "    <tr>\n",
       "      <th>609</th>\n",
       "      <td>332633624</td>\n",
       "      <td>3891541246</td>\n",
       "      <td>2019-08-04</td>\n",
       "      <td>80.2</td>\n",
       "      <td>A</td>\n",
       "    </tr>\n",
       "  </tbody>\n",
       "</table>\n",
       "</div>"
      ],
      "text/plain": [
       "     transactionId   visitorId       date  revenue group\n",
       "159     1170827001  3891541246 2019-08-22     20.2     A\n",
       "606     4007826947  3891541246 2019-08-04     10.4     B\n",
       "609      332633624  3891541246 2019-08-04     80.2     A"
      ]
     },
     "execution_count": 28,
     "metadata": {},
     "output_type": "execute_result"
    }
   ],
   "source": [
    "orders[orders['visitorId'] == 3891541246]"
   ]
  },
  {
   "cell_type": "markdown",
   "metadata": {},
   "source": [
    "Now that we confirmed that we have users in both groups, we will decide how to handle them. We can't know for sure what is the reason for the existence of these rows: it can be a technical error, on server side for example, or an error caused by human factor. Right now we also have no way of telling to which group they actually belong to. We consider that the best approach in this case will be removing these rows, as `group` in A/B testing is essential.\n",
    "\n",
    "First, we'll create a list of these ids."
   ]
  },
  {
   "cell_type": "code",
   "execution_count": 29,
   "metadata": {},
   "outputs": [
    {
     "data": {
      "text/plain": [
       "[2654030115,\n",
       " 3891541246,\n",
       " 3941795274,\n",
       " 1404934699,\n",
       " 351125977,\n",
       " 3951559397,\n",
       " 2927087541,\n",
       " 3963646447,\n",
       " 2458001652,\n",
       " 3972127743,\n",
       " 3984495233,\n",
       " 2949041841,\n",
       " 1959144690,\n",
       " 276558944,\n",
       " 2954449915,\n",
       " 237748145,\n",
       " 963407295,\n",
       " 1333886533,\n",
       " 232979603,\n",
       " 4069496402,\n",
       " 2378935119,\n",
       " 393266494,\n",
       " 2579882178,\n",
       " 1316129916,\n",
       " 1801183820,\n",
       " 3656415546,\n",
       " 1614305549,\n",
       " 1648269707,\n",
       " 2686716486,\n",
       " 2712142231,\n",
       " 2716752286,\n",
       " 1668030113,\n",
       " 1602967004,\n",
       " 3717692402,\n",
       " 3766097110,\n",
       " 1738359350,\n",
       " 2780786433,\n",
       " 3803269165,\n",
       " 477780734,\n",
       " 471551937,\n",
       " 2600415354,\n",
       " 818047933,\n",
       " 457167155,\n",
       " 2587333274,\n",
       " 2038680547,\n",
       " 3957174400,\n",
       " 3234906277,\n",
       " 1294878855,\n",
       " 199603092,\n",
       " 3202540741,\n",
       " 1230306981,\n",
       " 3062433592,\n",
       " 4256040402,\n",
       " 4266935830,\n",
       " 4186807279,\n",
       " 8300375,\n",
       " 4120364173,\n",
       " 2044997962]"
      ]
     },
     "execution_count": 29,
     "metadata": {},
     "output_type": "execute_result"
    }
   ],
   "source": [
    "duplicates_listed = def_dupl.query('group > 1')['visitorId'].tolist()\n",
    "duplicates_listed"
   ]
  },
  {
   "cell_type": "code",
   "execution_count": 30,
   "metadata": {},
   "outputs": [
    {
     "data": {
      "text/plain": [
       "58"
      ]
     },
     "execution_count": 30,
     "metadata": {},
     "output_type": "execute_result"
    }
   ],
   "source": [
    "len(duplicates_listed)"
   ]
  },
  {
   "cell_type": "code",
   "execution_count": 31,
   "metadata": {},
   "outputs": [
    {
     "name": "stdout",
     "output_type": "stream",
     "text": [
      "<class 'pandas.core.frame.DataFrame'>\n",
      "Int64Index: 1016 entries, 0 to 1196\n",
      "Data columns (total 5 columns):\n",
      " #   Column         Non-Null Count  Dtype         \n",
      "---  ------         --------------  -----         \n",
      " 0   transactionId  1016 non-null   int64         \n",
      " 1   visitorId      1016 non-null   int64         \n",
      " 2   date           1016 non-null   datetime64[ns]\n",
      " 3   revenue        1016 non-null   float64       \n",
      " 4   group          1016 non-null   category      \n",
      "dtypes: category(1), datetime64[ns](1), float64(1), int64(2)\n",
      "memory usage: 40.8 KB\n"
     ]
    }
   ],
   "source": [
    "orders = orders.query('visitorId not in @duplicates_listed')\n",
    "orders.info()"
   ]
  },
  {
   "cell_type": "markdown",
   "metadata": {},
   "source": [
    "<a id=\"conclusion1\"></a>\n",
    "### Conclusion"
   ]
  },
  {
   "cell_type": "markdown",
   "metadata": {},
   "source": [
    "   To sum everything up:\n",
    "\n",
    "1. We've changed data types of `date` columns both in `visitors` and `orders` to datetime format.\n",
    "2. We've changed data types of `group` columns in both `visitors` and `orders` to category format.\n",
    "3. We've found ids in `visitorId` column in `orders` df that belonged to both A and B groups. This discovery was very important as this parameter is essencial for A/B test. As we have no way of knowing which group they actually belong to, we had no other way but to get rid of rows with these ids. We've lost 181 rows (or 58 ids). In case that we could have asked other teams to check this issue, we already have a list of ids we would give with our report - `duplicates_listed`."
   ]
  },
  {
   "cell_type": "markdown",
   "metadata": {},
   "source": [
    "<a id=\"hypotheses\"></a>\n",
    "## Prioritizing hypotheses"
   ]
  },
  {
   "cell_type": "markdown",
   "metadata": {},
   "source": [
    "We have nine hypotheses that we have to choose from in `hypotheses` table. \n",
    "\n",
    "The `hypotheses` df contains nine hypotheses on boosting an online store's revenue with `Reach`, `Impact`, `Confidence`, and `Effort` specified for each.\n",
    "\n",
    "Our task is to:\n",
    "\n",
    "- Apply the `ICE` framework to prioritize hypotheses.\n",
    "- Apply the `RICE` framework to prioritize hypotheses.\n",
    "- Show and analyze how the prioritization of hypotheses changes when we use `RICE` instead of `ICE`. "
   ]
  },
  {
   "cell_type": "markdown",
   "metadata": {},
   "source": [
    "At first let's take a look at the full text of hypotheses we have:"
   ]
  },
  {
   "cell_type": "code",
   "execution_count": 32,
   "metadata": {},
   "outputs": [
    {
     "data": {
      "text/html": [
       "<div>\n",
       "<style scoped>\n",
       "    .dataframe tbody tr th:only-of-type {\n",
       "        vertical-align: middle;\n",
       "    }\n",
       "\n",
       "    .dataframe tbody tr th {\n",
       "        vertical-align: top;\n",
       "    }\n",
       "\n",
       "    .dataframe thead th {\n",
       "        text-align: right;\n",
       "    }\n",
       "</style>\n",
       "<table border=\"1\" class=\"dataframe\">\n",
       "  <thead>\n",
       "    <tr style=\"text-align: right;\">\n",
       "      <th></th>\n",
       "      <th>Hypothesis</th>\n",
       "    </tr>\n",
       "  </thead>\n",
       "  <tbody>\n",
       "    <tr>\n",
       "      <th>0</th>\n",
       "      <td>Add two new channels for attracting traffic. This will bring 30% more users</td>\n",
       "    </tr>\n",
       "    <tr>\n",
       "      <th>1</th>\n",
       "      <td>Launch your own delivery service. This will shorten delivery time</td>\n",
       "    </tr>\n",
       "    <tr>\n",
       "      <th>2</th>\n",
       "      <td>Add product recommendation blocks to the store's site. This will increase conversion and average purchase size</td>\n",
       "    </tr>\n",
       "    <tr>\n",
       "      <th>3</th>\n",
       "      <td>Change the category structure. This will increase conversion since users will find the products they want more quickly</td>\n",
       "    </tr>\n",
       "    <tr>\n",
       "      <th>4</th>\n",
       "      <td>Change the background color on the main page. This will increase user engagement</td>\n",
       "    </tr>\n",
       "    <tr>\n",
       "      <th>5</th>\n",
       "      <td>Add a customer review page. This will increase the number of orders</td>\n",
       "    </tr>\n",
       "    <tr>\n",
       "      <th>6</th>\n",
       "      <td>Show banners with current offers and sales on the main page. This will boost conversion</td>\n",
       "    </tr>\n",
       "    <tr>\n",
       "      <th>7</th>\n",
       "      <td>Add a subscription form to all the main pages. This will help you compile a mailing list</td>\n",
       "    </tr>\n",
       "    <tr>\n",
       "      <th>8</th>\n",
       "      <td>Launch a promotion that gives users discounts on their birthdays</td>\n",
       "    </tr>\n",
       "  </tbody>\n",
       "</table>\n",
       "</div>"
      ],
      "text/plain": [
       "                                                                                                               Hypothesis\n",
       "0                                             Add two new channels for attracting traffic. This will bring 30% more users\n",
       "1                                                       Launch your own delivery service. This will shorten delivery time\n",
       "2          Add product recommendation blocks to the store's site. This will increase conversion and average purchase size\n",
       "3  Change the category structure. This will increase conversion since users will find the products they want more quickly\n",
       "4                                        Change the background color on the main page. This will increase user engagement\n",
       "5                                                     Add a customer review page. This will increase the number of orders\n",
       "6                                 Show banners with current offers and sales on the main page. This will boost conversion\n",
       "7                                Add a subscription form to all the main pages. This will help you compile a mailing list\n",
       "8                                                        Launch a promotion that gives users discounts on their birthdays"
      ]
     },
     "execution_count": 32,
     "metadata": {},
     "output_type": "execute_result"
    }
   ],
   "source": [
    "pd.set_option('display.max_colwidth', None)\n",
    "hypotheses[['Hypothesis']]"
   ]
  },
  {
   "cell_type": "markdown",
   "metadata": {},
   "source": [
    "Now let's give it ICE rating:"
   ]
  },
  {
   "cell_type": "markdown",
   "metadata": {},
   "source": [
    "<a id=\"ice\"></a>\n",
    "### ICE"
   ]
  },
  {
   "cell_type": "code",
   "execution_count": 33,
   "metadata": {},
   "outputs": [
    {
     "data": {
      "text/html": [
       "<div>\n",
       "<style scoped>\n",
       "    .dataframe tbody tr th:only-of-type {\n",
       "        vertical-align: middle;\n",
       "    }\n",
       "\n",
       "    .dataframe tbody tr th {\n",
       "        vertical-align: top;\n",
       "    }\n",
       "\n",
       "    .dataframe thead th {\n",
       "        text-align: right;\n",
       "    }\n",
       "</style>\n",
       "<table border=\"1\" class=\"dataframe\">\n",
       "  <thead>\n",
       "    <tr style=\"text-align: right;\">\n",
       "      <th></th>\n",
       "      <th>Hypothesis</th>\n",
       "      <th>Reach</th>\n",
       "      <th>Impact</th>\n",
       "      <th>Confidence</th>\n",
       "      <th>Effort</th>\n",
       "      <th>ICE</th>\n",
       "    </tr>\n",
       "  </thead>\n",
       "  <tbody>\n",
       "    <tr>\n",
       "      <th>8</th>\n",
       "      <td>Launch a promotion that gives users discounts on their birthdays</td>\n",
       "      <td>1</td>\n",
       "      <td>9</td>\n",
       "      <td>9</td>\n",
       "      <td>5</td>\n",
       "      <td>16.200000</td>\n",
       "    </tr>\n",
       "    <tr>\n",
       "      <th>0</th>\n",
       "      <td>Add two new channels for attracting traffic. This will bring 30% more users</td>\n",
       "      <td>3</td>\n",
       "      <td>10</td>\n",
       "      <td>8</td>\n",
       "      <td>6</td>\n",
       "      <td>13.333333</td>\n",
       "    </tr>\n",
       "    <tr>\n",
       "      <th>7</th>\n",
       "      <td>Add a subscription form to all the main pages. This will help you compile a mailing list</td>\n",
       "      <td>10</td>\n",
       "      <td>7</td>\n",
       "      <td>8</td>\n",
       "      <td>5</td>\n",
       "      <td>11.200000</td>\n",
       "    </tr>\n",
       "    <tr>\n",
       "      <th>6</th>\n",
       "      <td>Show banners with current offers and sales on the main page. This will boost conversion</td>\n",
       "      <td>5</td>\n",
       "      <td>3</td>\n",
       "      <td>8</td>\n",
       "      <td>3</td>\n",
       "      <td>8.000000</td>\n",
       "    </tr>\n",
       "    <tr>\n",
       "      <th>2</th>\n",
       "      <td>Add product recommendation blocks to the store's site. This will increase conversion and average purchase size</td>\n",
       "      <td>8</td>\n",
       "      <td>3</td>\n",
       "      <td>7</td>\n",
       "      <td>3</td>\n",
       "      <td>7.000000</td>\n",
       "    </tr>\n",
       "    <tr>\n",
       "      <th>1</th>\n",
       "      <td>Launch your own delivery service. This will shorten delivery time</td>\n",
       "      <td>2</td>\n",
       "      <td>5</td>\n",
       "      <td>4</td>\n",
       "      <td>10</td>\n",
       "      <td>2.000000</td>\n",
       "    </tr>\n",
       "    <tr>\n",
       "      <th>5</th>\n",
       "      <td>Add a customer review page. This will increase the number of orders</td>\n",
       "      <td>3</td>\n",
       "      <td>2</td>\n",
       "      <td>2</td>\n",
       "      <td>3</td>\n",
       "      <td>1.333333</td>\n",
       "    </tr>\n",
       "    <tr>\n",
       "      <th>3</th>\n",
       "      <td>Change the category structure. This will increase conversion since users will find the products they want more quickly</td>\n",
       "      <td>8</td>\n",
       "      <td>3</td>\n",
       "      <td>3</td>\n",
       "      <td>8</td>\n",
       "      <td>1.125000</td>\n",
       "    </tr>\n",
       "    <tr>\n",
       "      <th>4</th>\n",
       "      <td>Change the background color on the main page. This will increase user engagement</td>\n",
       "      <td>3</td>\n",
       "      <td>1</td>\n",
       "      <td>1</td>\n",
       "      <td>1</td>\n",
       "      <td>1.000000</td>\n",
       "    </tr>\n",
       "  </tbody>\n",
       "</table>\n",
       "</div>"
      ],
      "text/plain": [
       "                                                                                                               Hypothesis  \\\n",
       "8                                                        Launch a promotion that gives users discounts on their birthdays   \n",
       "0                                             Add two new channels for attracting traffic. This will bring 30% more users   \n",
       "7                                Add a subscription form to all the main pages. This will help you compile a mailing list   \n",
       "6                                 Show banners with current offers and sales on the main page. This will boost conversion   \n",
       "2          Add product recommendation blocks to the store's site. This will increase conversion and average purchase size   \n",
       "1                                                       Launch your own delivery service. This will shorten delivery time   \n",
       "5                                                     Add a customer review page. This will increase the number of orders   \n",
       "3  Change the category structure. This will increase conversion since users will find the products they want more quickly   \n",
       "4                                        Change the background color on the main page. This will increase user engagement   \n",
       "\n",
       "   Reach  Impact  Confidence  Effort        ICE  \n",
       "8      1       9           9       5  16.200000  \n",
       "0      3      10           8       6  13.333333  \n",
       "7     10       7           8       5  11.200000  \n",
       "6      5       3           8       3   8.000000  \n",
       "2      8       3           7       3   7.000000  \n",
       "1      2       5           4      10   2.000000  \n",
       "5      3       2           2       3   1.333333  \n",
       "3      8       3           3       8   1.125000  \n",
       "4      3       1           1       1   1.000000  "
      ]
     },
     "execution_count": 33,
     "metadata": {},
     "output_type": "execute_result"
    }
   ],
   "source": [
    "hypotheses['ICE'] = hypotheses['Confidence'] * hypotheses['Impact'] / hypotheses['Effort']\n",
    "hypotheses.sort_values(by=['ICE'], ascending=False)"
   ]
  },
  {
   "cell_type": "markdown",
   "metadata": {},
   "source": [
    "*Conclusion*: our strongest hypotheses per ICE method are 8th, 0th and 7th."
   ]
  },
  {
   "cell_type": "markdown",
   "metadata": {},
   "source": [
    "<a id=\"rice\"></a>\n",
    "### RICE"
   ]
  },
  {
   "cell_type": "code",
   "execution_count": 34,
   "metadata": {},
   "outputs": [
    {
     "data": {
      "text/html": [
       "<div>\n",
       "<style scoped>\n",
       "    .dataframe tbody tr th:only-of-type {\n",
       "        vertical-align: middle;\n",
       "    }\n",
       "\n",
       "    .dataframe tbody tr th {\n",
       "        vertical-align: top;\n",
       "    }\n",
       "\n",
       "    .dataframe thead th {\n",
       "        text-align: right;\n",
       "    }\n",
       "</style>\n",
       "<table border=\"1\" class=\"dataframe\">\n",
       "  <thead>\n",
       "    <tr style=\"text-align: right;\">\n",
       "      <th></th>\n",
       "      <th>Hypothesis</th>\n",
       "      <th>Reach</th>\n",
       "      <th>Impact</th>\n",
       "      <th>Confidence</th>\n",
       "      <th>Effort</th>\n",
       "      <th>ICE</th>\n",
       "      <th>RICE</th>\n",
       "    </tr>\n",
       "  </thead>\n",
       "  <tbody>\n",
       "    <tr>\n",
       "      <th>7</th>\n",
       "      <td>Add a subscription form to all the main pages. This will help you compile a mailing list</td>\n",
       "      <td>10</td>\n",
       "      <td>7</td>\n",
       "      <td>8</td>\n",
       "      <td>5</td>\n",
       "      <td>11.200000</td>\n",
       "      <td>112.0</td>\n",
       "    </tr>\n",
       "    <tr>\n",
       "      <th>2</th>\n",
       "      <td>Add product recommendation blocks to the store's site. This will increase conversion and average purchase size</td>\n",
       "      <td>8</td>\n",
       "      <td>3</td>\n",
       "      <td>7</td>\n",
       "      <td>3</td>\n",
       "      <td>7.000000</td>\n",
       "      <td>56.0</td>\n",
       "    </tr>\n",
       "    <tr>\n",
       "      <th>0</th>\n",
       "      <td>Add two new channels for attracting traffic. This will bring 30% more users</td>\n",
       "      <td>3</td>\n",
       "      <td>10</td>\n",
       "      <td>8</td>\n",
       "      <td>6</td>\n",
       "      <td>13.333333</td>\n",
       "      <td>40.0</td>\n",
       "    </tr>\n",
       "    <tr>\n",
       "      <th>6</th>\n",
       "      <td>Show banners with current offers and sales on the main page. This will boost conversion</td>\n",
       "      <td>5</td>\n",
       "      <td>3</td>\n",
       "      <td>8</td>\n",
       "      <td>3</td>\n",
       "      <td>8.000000</td>\n",
       "      <td>40.0</td>\n",
       "    </tr>\n",
       "    <tr>\n",
       "      <th>8</th>\n",
       "      <td>Launch a promotion that gives users discounts on their birthdays</td>\n",
       "      <td>1</td>\n",
       "      <td>9</td>\n",
       "      <td>9</td>\n",
       "      <td>5</td>\n",
       "      <td>16.200000</td>\n",
       "      <td>16.2</td>\n",
       "    </tr>\n",
       "    <tr>\n",
       "      <th>3</th>\n",
       "      <td>Change the category structure. This will increase conversion since users will find the products they want more quickly</td>\n",
       "      <td>8</td>\n",
       "      <td>3</td>\n",
       "      <td>3</td>\n",
       "      <td>8</td>\n",
       "      <td>1.125000</td>\n",
       "      <td>9.0</td>\n",
       "    </tr>\n",
       "    <tr>\n",
       "      <th>1</th>\n",
       "      <td>Launch your own delivery service. This will shorten delivery time</td>\n",
       "      <td>2</td>\n",
       "      <td>5</td>\n",
       "      <td>4</td>\n",
       "      <td>10</td>\n",
       "      <td>2.000000</td>\n",
       "      <td>4.0</td>\n",
       "    </tr>\n",
       "    <tr>\n",
       "      <th>5</th>\n",
       "      <td>Add a customer review page. This will increase the number of orders</td>\n",
       "      <td>3</td>\n",
       "      <td>2</td>\n",
       "      <td>2</td>\n",
       "      <td>3</td>\n",
       "      <td>1.333333</td>\n",
       "      <td>4.0</td>\n",
       "    </tr>\n",
       "    <tr>\n",
       "      <th>4</th>\n",
       "      <td>Change the background color on the main page. This will increase user engagement</td>\n",
       "      <td>3</td>\n",
       "      <td>1</td>\n",
       "      <td>1</td>\n",
       "      <td>1</td>\n",
       "      <td>1.000000</td>\n",
       "      <td>3.0</td>\n",
       "    </tr>\n",
       "  </tbody>\n",
       "</table>\n",
       "</div>"
      ],
      "text/plain": [
       "                                                                                                               Hypothesis  \\\n",
       "7                                Add a subscription form to all the main pages. This will help you compile a mailing list   \n",
       "2          Add product recommendation blocks to the store's site. This will increase conversion and average purchase size   \n",
       "0                                             Add two new channels for attracting traffic. This will bring 30% more users   \n",
       "6                                 Show banners with current offers and sales on the main page. This will boost conversion   \n",
       "8                                                        Launch a promotion that gives users discounts on their birthdays   \n",
       "3  Change the category structure. This will increase conversion since users will find the products they want more quickly   \n",
       "1                                                       Launch your own delivery service. This will shorten delivery time   \n",
       "5                                                     Add a customer review page. This will increase the number of orders   \n",
       "4                                        Change the background color on the main page. This will increase user engagement   \n",
       "\n",
       "   Reach  Impact  Confidence  Effort        ICE   RICE  \n",
       "7     10       7           8       5  11.200000  112.0  \n",
       "2      8       3           7       3   7.000000   56.0  \n",
       "0      3      10           8       6  13.333333   40.0  \n",
       "6      5       3           8       3   8.000000   40.0  \n",
       "8      1       9           9       5  16.200000   16.2  \n",
       "3      8       3           3       8   1.125000    9.0  \n",
       "1      2       5           4      10   2.000000    4.0  \n",
       "5      3       2           2       3   1.333333    4.0  \n",
       "4      3       1           1       1   1.000000    3.0  "
      ]
     },
     "execution_count": 34,
     "metadata": {},
     "output_type": "execute_result"
    }
   ],
   "source": [
    "hypotheses['RICE'] = hypotheses['Confidence'] * hypotheses['Impact'] * hypotheses['Reach'] / hypotheses['Effort']\n",
    "hypotheses.sort_values(by=['RICE'], ascending=False)"
   ]
  },
  {
   "cell_type": "markdown",
   "metadata": {},
   "source": [
    "*Conclusion*: as per RICE method the top 3 are 7th, 2nd and 0th."
   ]
  },
  {
   "cell_type": "markdown",
   "metadata": {},
   "source": [
    "We can also show the correlation between ICE an RICE methods on scatterplot for visability."
   ]
  },
  {
   "cell_type": "code",
   "execution_count": 35,
   "metadata": {},
   "outputs": [
    {
     "data": {
      "image/png": "[encoded data removed]",
      "text/plain": [
       "<Figure size 576x576 with 1 Axes>"
      ]
     },
     "metadata": {
      "needs_background": "light"
     },
     "output_type": "display_data"
    }
   ],
   "source": [
    "plt.figure(figsize=(8, 8))\n",
    "sns.scatterplot(x=hypotheses['ICE'], y=hypotheses['RICE'])\n",
    "for line in range(0, hypotheses.shape[0]):\n",
    "    plt.text(hypotheses.ICE[line] +0.2, hypotheses.RICE[line], \n",
    "             hypotheses.index[line], horizontalalignment='left', size='medium', \n",
    "             color='blue')\n",
    "\n",
    "plt.title('ICE and RICE priority of hypotheses')\n",
    "\n",
    "plt.show()"
   ]
  },
  {
   "cell_type": "markdown",
   "metadata": {},
   "source": [
    "<a id=\"conclusion2\"></a>\n",
    "### Conclusion"
   ]
  },
  {
   "cell_type": "markdown",
   "metadata": {},
   "source": [
    "After running 2 methods and creating the scatterplot we saw that there's a difference between the results:\n",
    "\n",
    "<b>ICE</b>\n",
    "1. 8 - \"*Launch a promotion that gives users discounts on their birthdays*\"\n",
    "2. 0 - \"*Add two new channels for attracting traffic. This will bring 30% more users*\"\n",
    "3. 7 - \"*Add a subscription form to all the main pages. This will help you compile a mailing list*\"\n",
    "\n",
    "<b>RICE</b>\n",
    "1. 7 - \"*Add a subscription form to all the main pages. This will help you compile a mailing list*\"\n",
    "2. 2 - \"*Add product recommendation blocks to the store's site. This will increase conversion and average purchase size*\"\n",
    "3. 0 - \"*Add two new channels for attracting traffic. This will bring 30% more users*\"\n",
    "\n",
    "The most unattractive hypothesis in both methods is 4th - \"*Change the background color on the main page. This will increase user engagement*\". Also 5th \"*Add a customer review page. This will increase the number of orders*\", 1st \"*Launch your own delivery service. This will shorten delivery time*\" and 3d \"*Change the category structure. This will increase conversion since users will find the products they want more quickly*\" have low ratings in both methods and will receive the lowest priority.\n",
    "\n",
    "We saw that 8th hypothesis that was number one in ICE method didn't even make it in first 3 of RICE method. The main difference between two methods is an existence of \"Reach\" variable, which describes how many users will be affected by the update we want to introduce. And indeed, it sounds logical, that much less users will be affected, as in general only people who have birthday in the near future will be interested in this kind of promotion. While adding a subscription form to all main pages is an option for any kind of user. \n",
    "\n",
    "This way our top-priority hypotheses are: 7th, 0th and 2nd."
   ]
  },
  {
   "cell_type": "markdown",
   "metadata": {},
   "source": [
    "<a id=\"ab\"></a>\n",
    "## A/B test analysis"
   ]
  },
  {
   "cell_type": "markdown",
   "metadata": {},
   "source": [
    "In this step we'll make a series of tests, comparing different aspects of data between the Control and the Test groups. We'll keep an eye for any anomalities in data, such as outliers, and will procede depending on the results."
   ]
  },
  {
   "cell_type": "markdown",
   "metadata": {},
   "source": [
    "<a id=\"cum_rev\"></a>\n",
    "### Cumulative revenue by group"
   ]
  },
  {
   "cell_type": "markdown",
   "metadata": {},
   "source": [
    "Our first step will be calculating cumulative revenue. For this we'll create 2 grouped dfs: one for the control group `A` and another for the test group `B`. We're also going to calculate number of buyers, number of purchases and total sum of the revenue per day as we'll need this data later."
   ]
  },
  {
   "cell_type": "code",
   "execution_count": 36,
   "metadata": {},
   "outputs": [
    {
     "data": {
      "text/html": [
       "<div>\n",
       "<style scoped>\n",
       "    .dataframe tbody tr th:only-of-type {\n",
       "        vertical-align: middle;\n",
       "    }\n",
       "\n",
       "    .dataframe tbody tr th {\n",
       "        vertical-align: top;\n",
       "    }\n",
       "\n",
       "    .dataframe thead th {\n",
       "        text-align: right;\n",
       "    }\n",
       "</style>\n",
       "<table border=\"1\" class=\"dataframe\">\n",
       "  <thead>\n",
       "    <tr style=\"text-align: right;\">\n",
       "      <th></th>\n",
       "      <th>date</th>\n",
       "      <th>rev_sum</th>\n",
       "      <th>purchases</th>\n",
       "      <th>buyers</th>\n",
       "      <th>cum_rev</th>\n",
       "    </tr>\n",
       "  </thead>\n",
       "  <tbody>\n",
       "    <tr>\n",
       "      <th>0</th>\n",
       "      <td>2019-08-01</td>\n",
       "      <td>2266.6</td>\n",
       "      <td>23</td>\n",
       "      <td>19</td>\n",
       "      <td>2266.6</td>\n",
       "    </tr>\n",
       "    <tr>\n",
       "      <th>1</th>\n",
       "      <td>2019-08-02</td>\n",
       "      <td>1468.3</td>\n",
       "      <td>19</td>\n",
       "      <td>18</td>\n",
       "      <td>3734.9</td>\n",
       "    </tr>\n",
       "    <tr>\n",
       "      <th>2</th>\n",
       "      <td>2019-08-03</td>\n",
       "      <td>1815.2</td>\n",
       "      <td>24</td>\n",
       "      <td>24</td>\n",
       "      <td>5550.1</td>\n",
       "    </tr>\n",
       "    <tr>\n",
       "      <th>3</th>\n",
       "      <td>2019-08-04</td>\n",
       "      <td>675.5</td>\n",
       "      <td>11</td>\n",
       "      <td>11</td>\n",
       "      <td>6225.6</td>\n",
       "    </tr>\n",
       "    <tr>\n",
       "      <th>4</th>\n",
       "      <td>2019-08-05</td>\n",
       "      <td>1398.0</td>\n",
       "      <td>22</td>\n",
       "      <td>22</td>\n",
       "      <td>7623.6</td>\n",
       "    </tr>\n",
       "  </tbody>\n",
       "</table>\n",
       "</div>"
      ],
      "text/plain": [
       "        date  rev_sum  purchases  buyers  cum_rev\n",
       "0 2019-08-01   2266.6         23      19   2266.6\n",
       "1 2019-08-02   1468.3         19      18   3734.9\n",
       "2 2019-08-03   1815.2         24      24   5550.1\n",
       "3 2019-08-04    675.5         11      11   6225.6\n",
       "4 2019-08-05   1398.0         22      22   7623.6"
      ]
     },
     "execution_count": 36,
     "metadata": {},
     "output_type": "execute_result"
    }
   ],
   "source": [
    "orders_ctrl = orders.query('group == \"A\"').groupby('date').agg({'revenue':'sum', 'transactionId':'nunique', 'visitorId':'nunique'}).reset_index()\n",
    "orders_ctrl.columns = ['date', 'rev_sum', 'purchases', 'buyers']\n",
    "orders_ctrl['cum_rev'] = orders_ctrl['rev_sum'].cumsum()\n",
    "orders_ctrl.head()"
   ]
  },
  {
   "cell_type": "code",
   "execution_count": 37,
   "metadata": {},
   "outputs": [
    {
     "data": {
      "text/html": [
       "<div>\n",
       "<style scoped>\n",
       "    .dataframe tbody tr th:only-of-type {\n",
       "        vertical-align: middle;\n",
       "    }\n",
       "\n",
       "    .dataframe tbody tr th {\n",
       "        vertical-align: top;\n",
       "    }\n",
       "\n",
       "    .dataframe thead th {\n",
       "        text-align: right;\n",
       "    }\n",
       "</style>\n",
       "<table border=\"1\" class=\"dataframe\">\n",
       "  <thead>\n",
       "    <tr style=\"text-align: right;\">\n",
       "      <th></th>\n",
       "      <th>date</th>\n",
       "      <th>rev_sum</th>\n",
       "      <th>purchases</th>\n",
       "      <th>buyers</th>\n",
       "      <th>cum_rev</th>\n",
       "    </tr>\n",
       "  </thead>\n",
       "  <tbody>\n",
       "    <tr>\n",
       "      <th>0</th>\n",
       "      <td>2019-08-01</td>\n",
       "      <td>967.2</td>\n",
       "      <td>17</td>\n",
       "      <td>17</td>\n",
       "      <td>967.2</td>\n",
       "    </tr>\n",
       "    <tr>\n",
       "      <th>1</th>\n",
       "      <td>2019-08-02</td>\n",
       "      <td>2568.1</td>\n",
       "      <td>23</td>\n",
       "      <td>22</td>\n",
       "      <td>3535.3</td>\n",
       "    </tr>\n",
       "    <tr>\n",
       "      <th>2</th>\n",
       "      <td>2019-08-03</td>\n",
       "      <td>1071.6</td>\n",
       "      <td>14</td>\n",
       "      <td>14</td>\n",
       "      <td>4606.9</td>\n",
       "    </tr>\n",
       "    <tr>\n",
       "      <th>3</th>\n",
       "      <td>2019-08-04</td>\n",
       "      <td>1531.6</td>\n",
       "      <td>14</td>\n",
       "      <td>13</td>\n",
       "      <td>6138.5</td>\n",
       "    </tr>\n",
       "    <tr>\n",
       "      <th>4</th>\n",
       "      <td>2019-08-05</td>\n",
       "      <td>1449.3</td>\n",
       "      <td>21</td>\n",
       "      <td>21</td>\n",
       "      <td>7587.8</td>\n",
       "    </tr>\n",
       "  </tbody>\n",
       "</table>\n",
       "</div>"
      ],
      "text/plain": [
       "        date  rev_sum  purchases  buyers  cum_rev\n",
       "0 2019-08-01    967.2         17      17    967.2\n",
       "1 2019-08-02   2568.1         23      22   3535.3\n",
       "2 2019-08-03   1071.6         14      14   4606.9\n",
       "3 2019-08-04   1531.6         14      13   6138.5\n",
       "4 2019-08-05   1449.3         21      21   7587.8"
      ]
     },
     "execution_count": 37,
     "metadata": {},
     "output_type": "execute_result"
    }
   ],
   "source": [
    "orders_test = orders.query('group == \"B\"').groupby('date').agg({'revenue':'sum', 'transactionId':'nunique', 'visitorId':'nunique'}).reset_index()\n",
    "orders_test.columns = ['date', 'rev_sum', 'purchases', 'buyers']\n",
    "orders_test['cum_rev'] = orders_test['rev_sum'].cumsum()\n",
    "orders_test.head()"
   ]
  },
  {
   "cell_type": "code",
   "execution_count": 38,
   "metadata": {},
   "outputs": [
    {
     "data": {
      "image/png": "[encoded data removed]",
      "text/plain": [
       "<Figure size 1080x432 with 1 Axes>"
      ]
     },
     "metadata": {
      "needs_background": "light"
     },
     "output_type": "display_data"
    }
   ],
   "source": [
    "plt.rcParams[\"figure.figsize\"] = (15,6)\n",
    "plt.plot(orders_ctrl['date'], orders_ctrl['cum_rev'], label='Control')\n",
    "plt.plot(orders_test['date'], orders_test['cum_rev'], label='Test')\n",
    "plt.title('Cumulative revenue')\n",
    "plt.legend()\n",
    "\n",
    "plt.show()"
   ]
  },
  {
   "cell_type": "markdown",
   "metadata": {},
   "source": [
    "*Conclusion*: we can see that both lines start similarily low, test group being lower than the control group, and in about 5 days test group's cumulative revenue rises higher than control group's. Except for one point (13.08) after that test group's cumulative revenue continues to surpass the control group. There is also a rapid rise on about 18.08, which looks a bit suspicious: either there was a huge purchase on that day, or there were many orders placed on this day, anyway  and it looks like there's an outlier, so it is better to check that at a later step."
   ]
  },
  {
   "cell_type": "markdown",
   "metadata": {},
   "source": [
    "<a id=\"cum_order\"></a>\n",
    "### Cumulative average order size by group"
   ]
  },
  {
   "cell_type": "markdown",
   "metadata": {},
   "source": [
    "Now let's take a look at the cumulated average order size."
   ]
  },
  {
   "cell_type": "code",
   "execution_count": 39,
   "metadata": {},
   "outputs": [
    {
     "data": {
      "text/html": [
       "<div>\n",
       "<style scoped>\n",
       "    .dataframe tbody tr th:only-of-type {\n",
       "        vertical-align: middle;\n",
       "    }\n",
       "\n",
       "    .dataframe tbody tr th {\n",
       "        vertical-align: top;\n",
       "    }\n",
       "\n",
       "    .dataframe thead th {\n",
       "        text-align: right;\n",
       "    }\n",
       "</style>\n",
       "<table border=\"1\" class=\"dataframe\">\n",
       "  <thead>\n",
       "    <tr style=\"text-align: right;\">\n",
       "      <th></th>\n",
       "      <th>date</th>\n",
       "      <th>rev_sum</th>\n",
       "      <th>purchases</th>\n",
       "      <th>buyers</th>\n",
       "      <th>cum_rev</th>\n",
       "    </tr>\n",
       "  </thead>\n",
       "  <tbody>\n",
       "    <tr>\n",
       "      <th>0</th>\n",
       "      <td>2019-08-01</td>\n",
       "      <td>2266.6</td>\n",
       "      <td>23</td>\n",
       "      <td>19</td>\n",
       "      <td>2266.6</td>\n",
       "    </tr>\n",
       "    <tr>\n",
       "      <th>1</th>\n",
       "      <td>2019-08-02</td>\n",
       "      <td>1468.3</td>\n",
       "      <td>19</td>\n",
       "      <td>18</td>\n",
       "      <td>3734.9</td>\n",
       "    </tr>\n",
       "    <tr>\n",
       "      <th>2</th>\n",
       "      <td>2019-08-03</td>\n",
       "      <td>1815.2</td>\n",
       "      <td>24</td>\n",
       "      <td>24</td>\n",
       "      <td>5550.1</td>\n",
       "    </tr>\n",
       "    <tr>\n",
       "      <th>3</th>\n",
       "      <td>2019-08-04</td>\n",
       "      <td>675.5</td>\n",
       "      <td>11</td>\n",
       "      <td>11</td>\n",
       "      <td>6225.6</td>\n",
       "    </tr>\n",
       "    <tr>\n",
       "      <th>4</th>\n",
       "      <td>2019-08-05</td>\n",
       "      <td>1398.0</td>\n",
       "      <td>22</td>\n",
       "      <td>22</td>\n",
       "      <td>7623.6</td>\n",
       "    </tr>\n",
       "  </tbody>\n",
       "</table>\n",
       "</div>"
      ],
      "text/plain": [
       "        date  rev_sum  purchases  buyers  cum_rev\n",
       "0 2019-08-01   2266.6         23      19   2266.6\n",
       "1 2019-08-02   1468.3         19      18   3734.9\n",
       "2 2019-08-03   1815.2         24      24   5550.1\n",
       "3 2019-08-04    675.5         11      11   6225.6\n",
       "4 2019-08-05   1398.0         22      22   7623.6"
      ]
     },
     "execution_count": 39,
     "metadata": {},
     "output_type": "execute_result"
    }
   ],
   "source": [
    "orders_ctrl.head()"
   ]
  },
  {
   "cell_type": "code",
   "execution_count": 40,
   "metadata": {},
   "outputs": [
    {
     "data": {
      "text/html": [
       "<div>\n",
       "<style scoped>\n",
       "    .dataframe tbody tr th:only-of-type {\n",
       "        vertical-align: middle;\n",
       "    }\n",
       "\n",
       "    .dataframe tbody tr th {\n",
       "        vertical-align: top;\n",
       "    }\n",
       "\n",
       "    .dataframe thead th {\n",
       "        text-align: right;\n",
       "    }\n",
       "</style>\n",
       "<table border=\"1\" class=\"dataframe\">\n",
       "  <thead>\n",
       "    <tr style=\"text-align: right;\">\n",
       "      <th></th>\n",
       "      <th>date</th>\n",
       "      <th>rev_sum</th>\n",
       "      <th>purchases</th>\n",
       "      <th>buyers</th>\n",
       "      <th>cum_rev</th>\n",
       "      <th>cum_purch</th>\n",
       "      <th>cum_avg_check</th>\n",
       "    </tr>\n",
       "  </thead>\n",
       "  <tbody>\n",
       "    <tr>\n",
       "      <th>0</th>\n",
       "      <td>2019-08-01</td>\n",
       "      <td>2266.6</td>\n",
       "      <td>23</td>\n",
       "      <td>19</td>\n",
       "      <td>2266.6</td>\n",
       "      <td>23</td>\n",
       "      <td>98.547826</td>\n",
       "    </tr>\n",
       "    <tr>\n",
       "      <th>1</th>\n",
       "      <td>2019-08-02</td>\n",
       "      <td>1468.3</td>\n",
       "      <td>19</td>\n",
       "      <td>18</td>\n",
       "      <td>3734.9</td>\n",
       "      <td>42</td>\n",
       "      <td>88.926190</td>\n",
       "    </tr>\n",
       "    <tr>\n",
       "      <th>2</th>\n",
       "      <td>2019-08-03</td>\n",
       "      <td>1815.2</td>\n",
       "      <td>24</td>\n",
       "      <td>24</td>\n",
       "      <td>5550.1</td>\n",
       "      <td>66</td>\n",
       "      <td>84.092424</td>\n",
       "    </tr>\n",
       "    <tr>\n",
       "      <th>3</th>\n",
       "      <td>2019-08-04</td>\n",
       "      <td>675.5</td>\n",
       "      <td>11</td>\n",
       "      <td>11</td>\n",
       "      <td>6225.6</td>\n",
       "      <td>77</td>\n",
       "      <td>80.851948</td>\n",
       "    </tr>\n",
       "    <tr>\n",
       "      <th>4</th>\n",
       "      <td>2019-08-05</td>\n",
       "      <td>1398.0</td>\n",
       "      <td>22</td>\n",
       "      <td>22</td>\n",
       "      <td>7623.6</td>\n",
       "      <td>99</td>\n",
       "      <td>77.006061</td>\n",
       "    </tr>\n",
       "  </tbody>\n",
       "</table>\n",
       "</div>"
      ],
      "text/plain": [
       "        date  rev_sum  purchases  buyers  cum_rev  cum_purch  cum_avg_check\n",
       "0 2019-08-01   2266.6         23      19   2266.6         23      98.547826\n",
       "1 2019-08-02   1468.3         19      18   3734.9         42      88.926190\n",
       "2 2019-08-03   1815.2         24      24   5550.1         66      84.092424\n",
       "3 2019-08-04    675.5         11      11   6225.6         77      80.851948\n",
       "4 2019-08-05   1398.0         22      22   7623.6         99      77.006061"
      ]
     },
     "execution_count": 40,
     "metadata": {},
     "output_type": "execute_result"
    }
   ],
   "source": [
    "orders_ctrl['cum_purch']=orders_ctrl['purchases'].cumsum()\n",
    "orders_ctrl['cum_avg_check']=orders_ctrl['cum_rev']/orders_ctrl['cum_purch']\n",
    "orders_ctrl.head()"
   ]
  },
  {
   "cell_type": "code",
   "execution_count": 41,
   "metadata": {},
   "outputs": [
    {
     "data": {
      "text/html": [
       "<div>\n",
       "<style scoped>\n",
       "    .dataframe tbody tr th:only-of-type {\n",
       "        vertical-align: middle;\n",
       "    }\n",
       "\n",
       "    .dataframe tbody tr th {\n",
       "        vertical-align: top;\n",
       "    }\n",
       "\n",
       "    .dataframe thead th {\n",
       "        text-align: right;\n",
       "    }\n",
       "</style>\n",
       "<table border=\"1\" class=\"dataframe\">\n",
       "  <thead>\n",
       "    <tr style=\"text-align: right;\">\n",
       "      <th></th>\n",
       "      <th>date</th>\n",
       "      <th>rev_sum</th>\n",
       "      <th>purchases</th>\n",
       "      <th>buyers</th>\n",
       "      <th>cum_rev</th>\n",
       "      <th>cum_purch</th>\n",
       "      <th>cum_avg_check</th>\n",
       "    </tr>\n",
       "  </thead>\n",
       "  <tbody>\n",
       "    <tr>\n",
       "      <th>0</th>\n",
       "      <td>2019-08-01</td>\n",
       "      <td>967.2</td>\n",
       "      <td>17</td>\n",
       "      <td>17</td>\n",
       "      <td>967.2</td>\n",
       "      <td>17</td>\n",
       "      <td>56.894118</td>\n",
       "    </tr>\n",
       "    <tr>\n",
       "      <th>1</th>\n",
       "      <td>2019-08-02</td>\n",
       "      <td>2568.1</td>\n",
       "      <td>23</td>\n",
       "      <td>22</td>\n",
       "      <td>3535.3</td>\n",
       "      <td>40</td>\n",
       "      <td>88.382500</td>\n",
       "    </tr>\n",
       "    <tr>\n",
       "      <th>2</th>\n",
       "      <td>2019-08-03</td>\n",
       "      <td>1071.6</td>\n",
       "      <td>14</td>\n",
       "      <td>14</td>\n",
       "      <td>4606.9</td>\n",
       "      <td>54</td>\n",
       "      <td>85.312963</td>\n",
       "    </tr>\n",
       "    <tr>\n",
       "      <th>3</th>\n",
       "      <td>2019-08-04</td>\n",
       "      <td>1531.6</td>\n",
       "      <td>14</td>\n",
       "      <td>13</td>\n",
       "      <td>6138.5</td>\n",
       "      <td>68</td>\n",
       "      <td>90.272059</td>\n",
       "    </tr>\n",
       "    <tr>\n",
       "      <th>4</th>\n",
       "      <td>2019-08-05</td>\n",
       "      <td>1449.3</td>\n",
       "      <td>21</td>\n",
       "      <td>21</td>\n",
       "      <td>7587.8</td>\n",
       "      <td>89</td>\n",
       "      <td>85.256180</td>\n",
       "    </tr>\n",
       "  </tbody>\n",
       "</table>\n",
       "</div>"
      ],
      "text/plain": [
       "        date  rev_sum  purchases  buyers  cum_rev  cum_purch  cum_avg_check\n",
       "0 2019-08-01    967.2         17      17    967.2         17      56.894118\n",
       "1 2019-08-02   2568.1         23      22   3535.3         40      88.382500\n",
       "2 2019-08-03   1071.6         14      14   4606.9         54      85.312963\n",
       "3 2019-08-04   1531.6         14      13   6138.5         68      90.272059\n",
       "4 2019-08-05   1449.3         21      21   7587.8         89      85.256180"
      ]
     },
     "execution_count": 41,
     "metadata": {},
     "output_type": "execute_result"
    }
   ],
   "source": [
    "orders_test['cum_purch']=orders_test['purchases'].cumsum()\n",
    "orders_test['cum_avg_check']=orders_test['cum_rev']/orders_test['cum_purch']\n",
    "orders_test.head()"
   ]
  },
  {
   "cell_type": "code",
   "execution_count": 42,
   "metadata": {},
   "outputs": [
    {
     "data": {
      "image/png": "[encoded data removed]",
      "text/plain": [
       "<Figure size 1080x432 with 1 Axes>"
      ]
     },
     "metadata": {
      "needs_background": "light"
     },
     "output_type": "display_data"
    }
   ],
   "source": [
    "plt.plot(orders_ctrl['date'], orders_ctrl['cum_avg_check'], label='Control')\n",
    "plt.plot(orders_test['date'], orders_test['cum_avg_check'], label='Test')\n",
    "plt.title('Cumulative average purchase size')\n",
    "plt.legend()\n",
    "\n",
    "plt.show()"
   ]
  },
  {
   "cell_type": "markdown",
   "metadata": {},
   "source": [
    "*Conclusion*: we can see that test group starts off much lower than control group, though pretty quickly it surpasses in cumulative average check, but the rise is unstable. We see that there are few picks that bring the test group's line above the control group line, one of them being the one that caused the line on cumulative revenue graph rise, which means that there was an acceptionally big purchase this day, or an outlier, which can actually be an obsticle in our analysis. Also we see that test group's line after that date has a slow drop in cumulative average check. \n",
    "\n",
    "On the other hand control group has a more stable rise and only few slight drops. The latest tendency of it's line is slow rise."
   ]
  },
  {
   "cell_type": "markdown",
   "metadata": {},
   "source": [
    "<a id=\"relative_avg\"></a>\n",
    "### Relative difference in cumulative average order size per group"
   ]
  },
  {
   "cell_type": "markdown",
   "metadata": {},
   "source": [
    "Now let's see how the difference between the cumulative averages of both groups changes overtime."
   ]
  },
  {
   "cell_type": "code",
   "execution_count": 43,
   "metadata": {},
   "outputs": [
    {
     "data": {
      "text/html": [
       "<div>\n",
       "<style scoped>\n",
       "    .dataframe tbody tr th:only-of-type {\n",
       "        vertical-align: middle;\n",
       "    }\n",
       "\n",
       "    .dataframe tbody tr th {\n",
       "        vertical-align: top;\n",
       "    }\n",
       "\n",
       "    .dataframe thead th {\n",
       "        text-align: right;\n",
       "    }\n",
       "</style>\n",
       "<table border=\"1\" class=\"dataframe\">\n",
       "  <thead>\n",
       "    <tr style=\"text-align: right;\">\n",
       "      <th></th>\n",
       "      <th>date</th>\n",
       "      <th>cum_avg_checkA</th>\n",
       "      <th>cum_avg_checkB</th>\n",
       "    </tr>\n",
       "  </thead>\n",
       "  <tbody>\n",
       "    <tr>\n",
       "      <th>0</th>\n",
       "      <td>2019-08-01</td>\n",
       "      <td>98.547826</td>\n",
       "      <td>56.894118</td>\n",
       "    </tr>\n",
       "    <tr>\n",
       "      <th>1</th>\n",
       "      <td>2019-08-02</td>\n",
       "      <td>88.926190</td>\n",
       "      <td>88.382500</td>\n",
       "    </tr>\n",
       "    <tr>\n",
       "      <th>2</th>\n",
       "      <td>2019-08-03</td>\n",
       "      <td>84.092424</td>\n",
       "      <td>85.312963</td>\n",
       "    </tr>\n",
       "    <tr>\n",
       "      <th>3</th>\n",
       "      <td>2019-08-04</td>\n",
       "      <td>80.851948</td>\n",
       "      <td>90.272059</td>\n",
       "    </tr>\n",
       "    <tr>\n",
       "      <th>4</th>\n",
       "      <td>2019-08-05</td>\n",
       "      <td>77.006061</td>\n",
       "      <td>85.256180</td>\n",
       "    </tr>\n",
       "  </tbody>\n",
       "</table>\n",
       "</div>"
      ],
      "text/plain": [
       "        date  cum_avg_checkA  cum_avg_checkB\n",
       "0 2019-08-01       98.547826       56.894118\n",
       "1 2019-08-02       88.926190       88.382500\n",
       "2 2019-08-03       84.092424       85.312963\n",
       "3 2019-08-04       80.851948       90.272059\n",
       "4 2019-08-05       77.006061       85.256180"
      ]
     },
     "execution_count": 43,
     "metadata": {},
     "output_type": "execute_result"
    }
   ],
   "source": [
    "mergedOrders = orders_ctrl[['date', 'cum_avg_check']].merge(orders_test[['date', 'cum_avg_check']], on='date', how='left', suffixes=['A', 'B'])\n",
    "mergedOrders.head()"
   ]
  },
  {
   "cell_type": "code",
   "execution_count": 44,
   "metadata": {},
   "outputs": [
    {
     "data": {
      "image/png": "[encoded data removed]",
      "text/plain": [
       "<Figure size 1080x432 with 1 Axes>"
      ]
     },
     "metadata": {
      "needs_background": "light"
     },
     "output_type": "display_data"
    }
   ],
   "source": [
    "plt.plot(mergedOrders['date'], (mergedOrders['cum_avg_checkB'] / mergedOrders['cum_avg_checkA']) - 1)\n",
    "plt.axhline(y=0, color='black', linestyle='--') \n",
    "plt.title('Relative difference of the average purchase sizes')\n",
    "\n",
    "plt.show()"
   ]
  },
  {
   "cell_type": "markdown",
   "metadata": {},
   "source": [
    "*Conclusion*: generally there's a positive difference between cumulative average checks, except in the middle the difference drops below zero, meaning the control group had bigger average purchase sizes. At two points on the graph we see that there are spikes, which means there must be some big orders and outliers. We'll be able to find them later. The latest tendency in difference is still a slight drop."
   ]
  },
  {
   "cell_type": "markdown",
   "metadata": {},
   "source": [
    "<a id=\"conversion\"></a>\n",
    "### Conversion rate per groups"
   ]
  },
  {
   "cell_type": "markdown",
   "metadata": {},
   "source": [
    "To calculate the conversion rate we'll need to know the number of visits from `visits` table. For that purpose we'll merge our tables per date and group."
   ]
  },
  {
   "cell_type": "code",
   "execution_count": 45,
   "metadata": {},
   "outputs": [
    {
     "data": {
      "text/html": [
       "<div>\n",
       "<style scoped>\n",
       "    .dataframe tbody tr th:only-of-type {\n",
       "        vertical-align: middle;\n",
       "    }\n",
       "\n",
       "    .dataframe tbody tr th {\n",
       "        vertical-align: top;\n",
       "    }\n",
       "\n",
       "    .dataframe thead th {\n",
       "        text-align: right;\n",
       "    }\n",
       "</style>\n",
       "<table border=\"1\" class=\"dataframe\">\n",
       "  <thead>\n",
       "    <tr style=\"text-align: right;\">\n",
       "      <th></th>\n",
       "      <th>date</th>\n",
       "      <th>rev_sum</th>\n",
       "      <th>purchases</th>\n",
       "      <th>buyers</th>\n",
       "      <th>cum_rev</th>\n",
       "      <th>cum_purch</th>\n",
       "      <th>cum_avg_check</th>\n",
       "      <th>group</th>\n",
       "      <th>visits</th>\n",
       "      <th>conversion</th>\n",
       "    </tr>\n",
       "  </thead>\n",
       "  <tbody>\n",
       "    <tr>\n",
       "      <th>0</th>\n",
       "      <td>2019-08-01</td>\n",
       "      <td>2266.6</td>\n",
       "      <td>23</td>\n",
       "      <td>19</td>\n",
       "      <td>2266.6</td>\n",
       "      <td>23</td>\n",
       "      <td>98.547826</td>\n",
       "      <td>A</td>\n",
       "      <td>719</td>\n",
       "      <td>0.031989</td>\n",
       "    </tr>\n",
       "    <tr>\n",
       "      <th>1</th>\n",
       "      <td>2019-08-02</td>\n",
       "      <td>1468.3</td>\n",
       "      <td>19</td>\n",
       "      <td>18</td>\n",
       "      <td>3734.9</td>\n",
       "      <td>42</td>\n",
       "      <td>88.926190</td>\n",
       "      <td>A</td>\n",
       "      <td>619</td>\n",
       "      <td>0.030695</td>\n",
       "    </tr>\n",
       "    <tr>\n",
       "      <th>2</th>\n",
       "      <td>2019-08-03</td>\n",
       "      <td>1815.2</td>\n",
       "      <td>24</td>\n",
       "      <td>24</td>\n",
       "      <td>5550.1</td>\n",
       "      <td>66</td>\n",
       "      <td>84.092424</td>\n",
       "      <td>A</td>\n",
       "      <td>507</td>\n",
       "      <td>0.047337</td>\n",
       "    </tr>\n",
       "    <tr>\n",
       "      <th>3</th>\n",
       "      <td>2019-08-04</td>\n",
       "      <td>675.5</td>\n",
       "      <td>11</td>\n",
       "      <td>11</td>\n",
       "      <td>6225.6</td>\n",
       "      <td>77</td>\n",
       "      <td>80.851948</td>\n",
       "      <td>A</td>\n",
       "      <td>717</td>\n",
       "      <td>0.015342</td>\n",
       "    </tr>\n",
       "    <tr>\n",
       "      <th>4</th>\n",
       "      <td>2019-08-05</td>\n",
       "      <td>1398.0</td>\n",
       "      <td>22</td>\n",
       "      <td>22</td>\n",
       "      <td>7623.6</td>\n",
       "      <td>99</td>\n",
       "      <td>77.006061</td>\n",
       "      <td>A</td>\n",
       "      <td>756</td>\n",
       "      <td>0.029101</td>\n",
       "    </tr>\n",
       "  </tbody>\n",
       "</table>\n",
       "</div>"
      ],
      "text/plain": [
       "        date  rev_sum  purchases  buyers  cum_rev  cum_purch  cum_avg_check  \\\n",
       "0 2019-08-01   2266.6         23      19   2266.6         23      98.547826   \n",
       "1 2019-08-02   1468.3         19      18   3734.9         42      88.926190   \n",
       "2 2019-08-03   1815.2         24      24   5550.1         66      84.092424   \n",
       "3 2019-08-04    675.5         11      11   6225.6         77      80.851948   \n",
       "4 2019-08-05   1398.0         22      22   7623.6         99      77.006061   \n",
       "\n",
       "  group  visits  conversion  \n",
       "0     A     719    0.031989  \n",
       "1     A     619    0.030695  \n",
       "2     A     507    0.047337  \n",
       "3     A     717    0.015342  \n",
       "4     A     756    0.029101  "
      ]
     },
     "execution_count": 45,
     "metadata": {},
     "output_type": "execute_result"
    }
   ],
   "source": [
    "orders_ctrl = orders_ctrl.merge(visits.query('group == \"A\"'), on='date', how='left')\n",
    "orders_ctrl['conversion'] = orders_ctrl['purchases'] / orders_ctrl['visits']\n",
    "orders_ctrl.head()"
   ]
  },
  {
   "cell_type": "code",
   "execution_count": 46,
   "metadata": {},
   "outputs": [
    {
     "data": {
      "text/html": [
       "<div>\n",
       "<style scoped>\n",
       "    .dataframe tbody tr th:only-of-type {\n",
       "        vertical-align: middle;\n",
       "    }\n",
       "\n",
       "    .dataframe tbody tr th {\n",
       "        vertical-align: top;\n",
       "    }\n",
       "\n",
       "    .dataframe thead th {\n",
       "        text-align: right;\n",
       "    }\n",
       "</style>\n",
       "<table border=\"1\" class=\"dataframe\">\n",
       "  <thead>\n",
       "    <tr style=\"text-align: right;\">\n",
       "      <th></th>\n",
       "      <th>date</th>\n",
       "      <th>rev_sum</th>\n",
       "      <th>purchases</th>\n",
       "      <th>buyers</th>\n",
       "      <th>cum_rev</th>\n",
       "      <th>cum_purch</th>\n",
       "      <th>cum_avg_check</th>\n",
       "      <th>group</th>\n",
       "      <th>visits</th>\n",
       "      <th>conversion</th>\n",
       "    </tr>\n",
       "  </thead>\n",
       "  <tbody>\n",
       "    <tr>\n",
       "      <th>0</th>\n",
       "      <td>2019-08-01</td>\n",
       "      <td>967.2</td>\n",
       "      <td>17</td>\n",
       "      <td>17</td>\n",
       "      <td>967.2</td>\n",
       "      <td>17</td>\n",
       "      <td>56.894118</td>\n",
       "      <td>B</td>\n",
       "      <td>713</td>\n",
       "      <td>0.023843</td>\n",
       "    </tr>\n",
       "    <tr>\n",
       "      <th>1</th>\n",
       "      <td>2019-08-02</td>\n",
       "      <td>2568.1</td>\n",
       "      <td>23</td>\n",
       "      <td>22</td>\n",
       "      <td>3535.3</td>\n",
       "      <td>40</td>\n",
       "      <td>88.382500</td>\n",
       "      <td>B</td>\n",
       "      <td>581</td>\n",
       "      <td>0.039587</td>\n",
       "    </tr>\n",
       "    <tr>\n",
       "      <th>2</th>\n",
       "      <td>2019-08-03</td>\n",
       "      <td>1071.6</td>\n",
       "      <td>14</td>\n",
       "      <td>14</td>\n",
       "      <td>4606.9</td>\n",
       "      <td>54</td>\n",
       "      <td>85.312963</td>\n",
       "      <td>B</td>\n",
       "      <td>509</td>\n",
       "      <td>0.027505</td>\n",
       "    </tr>\n",
       "    <tr>\n",
       "      <th>3</th>\n",
       "      <td>2019-08-04</td>\n",
       "      <td>1531.6</td>\n",
       "      <td>14</td>\n",
       "      <td>13</td>\n",
       "      <td>6138.5</td>\n",
       "      <td>68</td>\n",
       "      <td>90.272059</td>\n",
       "      <td>B</td>\n",
       "      <td>770</td>\n",
       "      <td>0.018182</td>\n",
       "    </tr>\n",
       "    <tr>\n",
       "      <th>4</th>\n",
       "      <td>2019-08-05</td>\n",
       "      <td>1449.3</td>\n",
       "      <td>21</td>\n",
       "      <td>21</td>\n",
       "      <td>7587.8</td>\n",
       "      <td>89</td>\n",
       "      <td>85.256180</td>\n",
       "      <td>B</td>\n",
       "      <td>707</td>\n",
       "      <td>0.029703</td>\n",
       "    </tr>\n",
       "  </tbody>\n",
       "</table>\n",
       "</div>"
      ],
      "text/plain": [
       "        date  rev_sum  purchases  buyers  cum_rev  cum_purch  cum_avg_check  \\\n",
       "0 2019-08-01    967.2         17      17    967.2         17      56.894118   \n",
       "1 2019-08-02   2568.1         23      22   3535.3         40      88.382500   \n",
       "2 2019-08-03   1071.6         14      14   4606.9         54      85.312963   \n",
       "3 2019-08-04   1531.6         14      13   6138.5         68      90.272059   \n",
       "4 2019-08-05   1449.3         21      21   7587.8         89      85.256180   \n",
       "\n",
       "  group  visits  conversion  \n",
       "0     B     713    0.023843  \n",
       "1     B     581    0.039587  \n",
       "2     B     509    0.027505  \n",
       "3     B     770    0.018182  \n",
       "4     B     707    0.029703  "
      ]
     },
     "execution_count": 46,
     "metadata": {},
     "output_type": "execute_result"
    }
   ],
   "source": [
    "orders_test = orders_test.merge(visits.query('group == \"B\"'), on='date', how='left')\n",
    "orders_test['conversion'] = orders_test['purchases'] / orders_test['visits']\n",
    "orders_test.head()"
   ]
  },
  {
   "cell_type": "code",
   "execution_count": 47,
   "metadata": {},
   "outputs": [
    {
     "data": {
      "image/png": "[encoded data removed]",
      "text/plain": [
       "<Figure size 1080x432 with 1 Axes>"
      ]
     },
     "metadata": {
      "needs_background": "light"
     },
     "output_type": "display_data"
    }
   ],
   "source": [
    "plt.plot(orders_ctrl['date'], orders_ctrl['conversion'], label='Control')\n",
    "plt.plot(orders_test['date'], orders_test['conversion'], label='Test')\n",
    "plt.title('Conversion rate')\n",
    "plt.legend()\n",
    "\n",
    "plt.show()"
   ]
  },
  {
   "cell_type": "code",
   "execution_count": 48,
   "metadata": {},
   "outputs": [
    {
     "name": "stdout",
     "output_type": "stream",
     "text": [
      "Overall conversion rate for group A: 0.02497865072587532\n",
      "Overall conversion rate for group B: 0.02897018397124128\n"
     ]
    }
   ],
   "source": [
    "print('Overall conversion rate for group A:', orders_ctrl['purchases'].sum() / orders_ctrl['visits'].sum())\n",
    "print('Overall conversion rate for group B:', orders_test['purchases'].sum() / orders_test['visits'].sum())"
   ]
  },
  {
   "cell_type": "markdown",
   "metadata": {},
   "source": [
    "*Conclusion*: we don't see any prominent difference between the groups, both of them fluctuate every few days with greatest drops tending to be on the weekends. The overall conversion rate shows a slight difference in 0.004 points. We want to take a look at the relative difference in cumulative conversion rates, because based on the graph above only it is difficult to make conclusions. "
   ]
  },
  {
   "cell_type": "markdown",
   "metadata": {},
   "source": [
    "<b>Cumulative conversion</b>"
   ]
  },
  {
   "cell_type": "code",
   "execution_count": 49,
   "metadata": {},
   "outputs": [
    {
     "data": {
      "text/html": [
       "<div>\n",
       "<style scoped>\n",
       "    .dataframe tbody tr th:only-of-type {\n",
       "        vertical-align: middle;\n",
       "    }\n",
       "\n",
       "    .dataframe tbody tr th {\n",
       "        vertical-align: top;\n",
       "    }\n",
       "\n",
       "    .dataframe thead th {\n",
       "        text-align: right;\n",
       "    }\n",
       "</style>\n",
       "<table border=\"1\" class=\"dataframe\">\n",
       "  <thead>\n",
       "    <tr style=\"text-align: right;\">\n",
       "      <th></th>\n",
       "      <th>date</th>\n",
       "      <th>rev_sum</th>\n",
       "      <th>purchases</th>\n",
       "      <th>buyers</th>\n",
       "      <th>cum_rev</th>\n",
       "      <th>cum_purch</th>\n",
       "      <th>cum_avg_check</th>\n",
       "      <th>group</th>\n",
       "      <th>visits</th>\n",
       "      <th>conversion</th>\n",
       "      <th>cum_conversion</th>\n",
       "    </tr>\n",
       "  </thead>\n",
       "  <tbody>\n",
       "    <tr>\n",
       "      <th>0</th>\n",
       "      <td>2019-08-01</td>\n",
       "      <td>2266.6</td>\n",
       "      <td>23</td>\n",
       "      <td>19</td>\n",
       "      <td>2266.6</td>\n",
       "      <td>23</td>\n",
       "      <td>98.547826</td>\n",
       "      <td>A</td>\n",
       "      <td>719</td>\n",
       "      <td>0.031989</td>\n",
       "      <td>0.031989</td>\n",
       "    </tr>\n",
       "    <tr>\n",
       "      <th>1</th>\n",
       "      <td>2019-08-02</td>\n",
       "      <td>1468.3</td>\n",
       "      <td>19</td>\n",
       "      <td>18</td>\n",
       "      <td>3734.9</td>\n",
       "      <td>42</td>\n",
       "      <td>88.926190</td>\n",
       "      <td>A</td>\n",
       "      <td>619</td>\n",
       "      <td>0.030695</td>\n",
       "      <td>0.062684</td>\n",
       "    </tr>\n",
       "    <tr>\n",
       "      <th>2</th>\n",
       "      <td>2019-08-03</td>\n",
       "      <td>1815.2</td>\n",
       "      <td>24</td>\n",
       "      <td>24</td>\n",
       "      <td>5550.1</td>\n",
       "      <td>66</td>\n",
       "      <td>84.092424</td>\n",
       "      <td>A</td>\n",
       "      <td>507</td>\n",
       "      <td>0.047337</td>\n",
       "      <td>0.110021</td>\n",
       "    </tr>\n",
       "    <tr>\n",
       "      <th>3</th>\n",
       "      <td>2019-08-04</td>\n",
       "      <td>675.5</td>\n",
       "      <td>11</td>\n",
       "      <td>11</td>\n",
       "      <td>6225.6</td>\n",
       "      <td>77</td>\n",
       "      <td>80.851948</td>\n",
       "      <td>A</td>\n",
       "      <td>717</td>\n",
       "      <td>0.015342</td>\n",
       "      <td>0.125363</td>\n",
       "    </tr>\n",
       "    <tr>\n",
       "      <th>4</th>\n",
       "      <td>2019-08-05</td>\n",
       "      <td>1398.0</td>\n",
       "      <td>22</td>\n",
       "      <td>22</td>\n",
       "      <td>7623.6</td>\n",
       "      <td>99</td>\n",
       "      <td>77.006061</td>\n",
       "      <td>A</td>\n",
       "      <td>756</td>\n",
       "      <td>0.029101</td>\n",
       "      <td>0.154463</td>\n",
       "    </tr>\n",
       "  </tbody>\n",
       "</table>\n",
       "</div>"
      ],
      "text/plain": [
       "        date  rev_sum  purchases  buyers  cum_rev  cum_purch  cum_avg_check  \\\n",
       "0 2019-08-01   2266.6         23      19   2266.6         23      98.547826   \n",
       "1 2019-08-02   1468.3         19      18   3734.9         42      88.926190   \n",
       "2 2019-08-03   1815.2         24      24   5550.1         66      84.092424   \n",
       "3 2019-08-04    675.5         11      11   6225.6         77      80.851948   \n",
       "4 2019-08-05   1398.0         22      22   7623.6         99      77.006061   \n",
       "\n",
       "  group  visits  conversion  cum_conversion  \n",
       "0     A     719    0.031989        0.031989  \n",
       "1     A     619    0.030695        0.062684  \n",
       "2     A     507    0.047337        0.110021  \n",
       "3     A     717    0.015342        0.125363  \n",
       "4     A     756    0.029101        0.154463  "
      ]
     },
     "execution_count": 49,
     "metadata": {},
     "output_type": "execute_result"
    }
   ],
   "source": [
    "orders_ctrl['cum_conversion'] = orders_ctrl['conversion'].cumsum()\n",
    "orders_ctrl.head()"
   ]
  },
  {
   "cell_type": "code",
   "execution_count": 50,
   "metadata": {},
   "outputs": [
    {
     "data": {
      "text/html": [
       "<div>\n",
       "<style scoped>\n",
       "    .dataframe tbody tr th:only-of-type {\n",
       "        vertical-align: middle;\n",
       "    }\n",
       "\n",
       "    .dataframe tbody tr th {\n",
       "        vertical-align: top;\n",
       "    }\n",
       "\n",
       "    .dataframe thead th {\n",
       "        text-align: right;\n",
       "    }\n",
       "</style>\n",
       "<table border=\"1\" class=\"dataframe\">\n",
       "  <thead>\n",
       "    <tr style=\"text-align: right;\">\n",
       "      <th></th>\n",
       "      <th>date</th>\n",
       "      <th>rev_sum</th>\n",
       "      <th>purchases</th>\n",
       "      <th>buyers</th>\n",
       "      <th>cum_rev</th>\n",
       "      <th>cum_purch</th>\n",
       "      <th>cum_avg_check</th>\n",
       "      <th>group</th>\n",
       "      <th>visits</th>\n",
       "      <th>conversion</th>\n",
       "      <th>cum_conversion</th>\n",
       "    </tr>\n",
       "  </thead>\n",
       "  <tbody>\n",
       "    <tr>\n",
       "      <th>0</th>\n",
       "      <td>2019-08-01</td>\n",
       "      <td>967.2</td>\n",
       "      <td>17</td>\n",
       "      <td>17</td>\n",
       "      <td>967.2</td>\n",
       "      <td>17</td>\n",
       "      <td>56.894118</td>\n",
       "      <td>B</td>\n",
       "      <td>713</td>\n",
       "      <td>0.023843</td>\n",
       "      <td>0.023843</td>\n",
       "    </tr>\n",
       "    <tr>\n",
       "      <th>1</th>\n",
       "      <td>2019-08-02</td>\n",
       "      <td>2568.1</td>\n",
       "      <td>23</td>\n",
       "      <td>22</td>\n",
       "      <td>3535.3</td>\n",
       "      <td>40</td>\n",
       "      <td>88.382500</td>\n",
       "      <td>B</td>\n",
       "      <td>581</td>\n",
       "      <td>0.039587</td>\n",
       "      <td>0.063430</td>\n",
       "    </tr>\n",
       "    <tr>\n",
       "      <th>2</th>\n",
       "      <td>2019-08-03</td>\n",
       "      <td>1071.6</td>\n",
       "      <td>14</td>\n",
       "      <td>14</td>\n",
       "      <td>4606.9</td>\n",
       "      <td>54</td>\n",
       "      <td>85.312963</td>\n",
       "      <td>B</td>\n",
       "      <td>509</td>\n",
       "      <td>0.027505</td>\n",
       "      <td>0.090935</td>\n",
       "    </tr>\n",
       "    <tr>\n",
       "      <th>3</th>\n",
       "      <td>2019-08-04</td>\n",
       "      <td>1531.6</td>\n",
       "      <td>14</td>\n",
       "      <td>13</td>\n",
       "      <td>6138.5</td>\n",
       "      <td>68</td>\n",
       "      <td>90.272059</td>\n",
       "      <td>B</td>\n",
       "      <td>770</td>\n",
       "      <td>0.018182</td>\n",
       "      <td>0.109117</td>\n",
       "    </tr>\n",
       "    <tr>\n",
       "      <th>4</th>\n",
       "      <td>2019-08-05</td>\n",
       "      <td>1449.3</td>\n",
       "      <td>21</td>\n",
       "      <td>21</td>\n",
       "      <td>7587.8</td>\n",
       "      <td>89</td>\n",
       "      <td>85.256180</td>\n",
       "      <td>B</td>\n",
       "      <td>707</td>\n",
       "      <td>0.029703</td>\n",
       "      <td>0.138820</td>\n",
       "    </tr>\n",
       "  </tbody>\n",
       "</table>\n",
       "</div>"
      ],
      "text/plain": [
       "        date  rev_sum  purchases  buyers  cum_rev  cum_purch  cum_avg_check  \\\n",
       "0 2019-08-01    967.2         17      17    967.2         17      56.894118   \n",
       "1 2019-08-02   2568.1         23      22   3535.3         40      88.382500   \n",
       "2 2019-08-03   1071.6         14      14   4606.9         54      85.312963   \n",
       "3 2019-08-04   1531.6         14      13   6138.5         68      90.272059   \n",
       "4 2019-08-05   1449.3         21      21   7587.8         89      85.256180   \n",
       "\n",
       "  group  visits  conversion  cum_conversion  \n",
       "0     B     713    0.023843        0.023843  \n",
       "1     B     581    0.039587        0.063430  \n",
       "2     B     509    0.027505        0.090935  \n",
       "3     B     770    0.018182        0.109117  \n",
       "4     B     707    0.029703        0.138820  "
      ]
     },
     "execution_count": 50,
     "metadata": {},
     "output_type": "execute_result"
    }
   ],
   "source": [
    "orders_test['cum_conversion'] = orders_test['conversion'].cumsum()\n",
    "orders_test.head()"
   ]
  },
  {
   "cell_type": "code",
   "execution_count": 51,
   "metadata": {},
   "outputs": [
    {
     "data": {
      "image/png": "[encoded data removed]",
      "text/plain": [
       "<Figure size 1080x432 with 1 Axes>"
      ]
     },
     "metadata": {
      "needs_background": "light"
     },
     "output_type": "display_data"
    }
   ],
   "source": [
    "plt.plot(orders_ctrl['date'], (orders_test['cum_conversion'] / orders_ctrl['cum_conversion']) - 1)\n",
    "plt.axhline(y=0, color='black', linestyle='--') \n",
    "plt.title('Relative difference of the cumulative conversion')\n",
    "\n",
    "plt.show()"
   ]
  },
  {
   "cell_type": "markdown",
   "metadata": {},
   "source": [
    "*Conclusion*: on this graph we can see it more clearly that the conversion rate of the test group is definetly higher than of the control group. Even though it has low ups and downs, after the 6th of August it stays bigger than that of the control group."
   ]
  },
  {
   "cell_type": "markdown",
   "metadata": {},
   "source": [
    "<a id=\"n_orders\"></a>\n",
    "### Number of orders per user"
   ]
  },
  {
   "cell_type": "code",
   "execution_count": 52,
   "metadata": {},
   "outputs": [
    {
     "data": {
      "text/html": [
       "<div>\n",
       "<style scoped>\n",
       "    .dataframe tbody tr th:only-of-type {\n",
       "        vertical-align: middle;\n",
       "    }\n",
       "\n",
       "    .dataframe tbody tr th {\n",
       "        vertical-align: top;\n",
       "    }\n",
       "\n",
       "    .dataframe thead th {\n",
       "        text-align: right;\n",
       "    }\n",
       "</style>\n",
       "<table border=\"1\" class=\"dataframe\">\n",
       "  <thead>\n",
       "    <tr style=\"text-align: right;\">\n",
       "      <th></th>\n",
       "      <th>transactionId</th>\n",
       "      <th>visitorId</th>\n",
       "      <th>date</th>\n",
       "      <th>revenue</th>\n",
       "      <th>group</th>\n",
       "    </tr>\n",
       "  </thead>\n",
       "  <tbody>\n",
       "    <tr>\n",
       "      <th>0</th>\n",
       "      <td>3667963787</td>\n",
       "      <td>3312258926</td>\n",
       "      <td>2019-08-15</td>\n",
       "      <td>30.4</td>\n",
       "      <td>B</td>\n",
       "    </tr>\n",
       "    <tr>\n",
       "      <th>1</th>\n",
       "      <td>2804400009</td>\n",
       "      <td>3642806036</td>\n",
       "      <td>2019-08-15</td>\n",
       "      <td>15.2</td>\n",
       "      <td>B</td>\n",
       "    </tr>\n",
       "    <tr>\n",
       "      <th>3</th>\n",
       "      <td>3797467345</td>\n",
       "      <td>1196621759</td>\n",
       "      <td>2019-08-15</td>\n",
       "      <td>155.1</td>\n",
       "      <td>B</td>\n",
       "    </tr>\n",
       "    <tr>\n",
       "      <th>4</th>\n",
       "      <td>2282983706</td>\n",
       "      <td>2322279887</td>\n",
       "      <td>2019-08-15</td>\n",
       "      <td>40.5</td>\n",
       "      <td>B</td>\n",
       "    </tr>\n",
       "    <tr>\n",
       "      <th>5</th>\n",
       "      <td>182168103</td>\n",
       "      <td>935554773</td>\n",
       "      <td>2019-08-15</td>\n",
       "      <td>35.0</td>\n",
       "      <td>B</td>\n",
       "    </tr>\n",
       "  </tbody>\n",
       "</table>\n",
       "</div>"
      ],
      "text/plain": [
       "   transactionId   visitorId       date  revenue group\n",
       "0     3667963787  3312258926 2019-08-15     30.4     B\n",
       "1     2804400009  3642806036 2019-08-15     15.2     B\n",
       "3     3797467345  1196621759 2019-08-15    155.1     B\n",
       "4     2282983706  2322279887 2019-08-15     40.5     B\n",
       "5      182168103   935554773 2019-08-15     35.0     B"
      ]
     },
     "execution_count": 52,
     "metadata": {},
     "output_type": "execute_result"
    }
   ],
   "source": [
    "orders.head()"
   ]
  },
  {
   "cell_type": "code",
   "execution_count": 53,
   "metadata": {},
   "outputs": [
    {
     "data": {
      "text/html": [
       "<div>\n",
       "<style scoped>\n",
       "    .dataframe tbody tr th:only-of-type {\n",
       "        vertical-align: middle;\n",
       "    }\n",
       "\n",
       "    .dataframe tbody tr th {\n",
       "        vertical-align: top;\n",
       "    }\n",
       "\n",
       "    .dataframe thead th {\n",
       "        text-align: right;\n",
       "    }\n",
       "</style>\n",
       "<table border=\"1\" class=\"dataframe\">\n",
       "  <thead>\n",
       "    <tr style=\"text-align: right;\">\n",
       "      <th></th>\n",
       "      <th>userId</th>\n",
       "      <th>purchases</th>\n",
       "      <th>group</th>\n",
       "    </tr>\n",
       "  </thead>\n",
       "  <tbody>\n",
       "    <tr>\n",
       "      <th>0</th>\n",
       "      <td>5114589</td>\n",
       "      <td>1</td>\n",
       "      <td>B</td>\n",
       "    </tr>\n",
       "    <tr>\n",
       "      <th>1</th>\n",
       "      <td>6958315</td>\n",
       "      <td>1</td>\n",
       "      <td>B</td>\n",
       "    </tr>\n",
       "    <tr>\n",
       "      <th>2</th>\n",
       "      <td>11685486</td>\n",
       "      <td>1</td>\n",
       "      <td>A</td>\n",
       "    </tr>\n",
       "    <tr>\n",
       "      <th>3</th>\n",
       "      <td>39475350</td>\n",
       "      <td>1</td>\n",
       "      <td>B</td>\n",
       "    </tr>\n",
       "    <tr>\n",
       "      <th>4</th>\n",
       "      <td>47206413</td>\n",
       "      <td>1</td>\n",
       "      <td>B</td>\n",
       "    </tr>\n",
       "  </tbody>\n",
       "</table>\n",
       "</div>"
      ],
      "text/plain": [
       "     userId  purchases group\n",
       "0   5114589          1     B\n",
       "1   6958315          1     B\n",
       "2  11685486          1     A\n",
       "3  39475350          1     B\n",
       "4  47206413          1     B"
      ]
     },
     "execution_count": 53,
     "metadata": {},
     "output_type": "execute_result"
    }
   ],
   "source": [
    "ordersByUsers = orders.groupby('visitorId').agg({'transactionId':'nunique', 'group':'first'}).reset_index()\n",
    "ordersByUsers.columns = ['userId', 'purchases', 'group']\n",
    "ordersByUsers.head()"
   ]
  },
  {
   "cell_type": "code",
   "execution_count": 54,
   "metadata": {},
   "outputs": [
    {
     "data": {
      "image/png": "[encoded data removed]",
      "text/plain": [
       "<Figure size 1080x432 with 1 Axes>"
      ]
     },
     "metadata": {
      "needs_background": "light"
     },
     "output_type": "display_data"
    }
   ],
   "source": [
    "x_values = pd.Series(range(0,len(ordersByUsers)))\n",
    "sns.scatterplot(x_values, ordersByUsers['purchases'], hue=ordersByUsers['group'])\n",
    "\n",
    "plt.title('Number of orders per user')\n",
    "plt.show()"
   ]
  },
  {
   "cell_type": "markdown",
   "metadata": {},
   "source": [
    "*Conclusion*: we can see that absolute majority of users made only one purchase, and maximum number of purchases is three, which is very rare."
   ]
  },
  {
   "cell_type": "markdown",
   "metadata": {},
   "source": [
    "<b> Data anomalities </b>\n",
    "\n",
    "As there are so few users that made 3 orders, let's take a look at the percentiles to check whether this can be considered an anomaly. We'll calculate the 95th and 99th percentiles for the number of orders per user."
   ]
  },
  {
   "cell_type": "markdown",
   "metadata": {},
   "source": [
    "We have too little value variety for boxplots, so we'll simply create a histogram and calculate percentiles."
   ]
  },
  {
   "cell_type": "code",
   "execution_count": 55,
   "metadata": {},
   "outputs": [
    {
     "data": {
      "image/png": "[encoded data removed]",
      "text/plain": [
       "<Figure size 1080x432 with 1 Axes>"
      ]
     },
     "metadata": {
      "needs_background": "light"
     },
     "output_type": "display_data"
    }
   ],
   "source": [
    "plt.hist(ordersByUsers.query('group == \"A\"')['purchases'], alpha=0.5, label=\"Control\")\n",
    "plt.hist(ordersByUsers.query('group == \"B\"')['purchases'], alpha=0.5, label=\"Test\")\n",
    "\n",
    "plt.legend()\n",
    "plt.ylabel('number of users')\n",
    "plt.xlabel('number of orders')\n",
    "plt.title('Number of orders per user')\n",
    "\n",
    "plt.show()"
   ]
  },
  {
   "cell_type": "code",
   "execution_count": 56,
   "metadata": {},
   "outputs": [
    {
     "name": "stdout",
     "output_type": "stream",
     "text": [
      "95% of orders are less or equal to: 1.0\n",
      "99% of orders are less or equal to: 2.0\n"
     ]
    }
   ],
   "source": [
    "print('95% of orders are less or equal to:', np.percentile(ordersByUsers['purchases'], 95))\n",
    "print('99% of orders are less or equal to:', np.percentile(ordersByUsers['purchases'], 99))"
   ]
  },
  {
   "cell_type": "markdown",
   "metadata": {},
   "source": [
    "*Conclusion*: Both groups look pretty similar, 99% of the users have made 1 or 2 purchases, there's only 1% of users who have made 3 purchases. We will cut off this 1% of users for our filtered data."
   ]
  },
  {
   "cell_type": "markdown",
   "metadata": {},
   "source": [
    "<a id=\"order_price\"></a>\n",
    "### Order prices"
   ]
  },
  {
   "cell_type": "markdown",
   "metadata": {},
   "source": [
    "We're going to take a look at the scatterplot of distribution of order prices."
   ]
  },
  {
   "cell_type": "code",
   "execution_count": 57,
   "metadata": {},
   "outputs": [
    {
     "data": {
      "image/png": "[encoded data removed]",
      "text/plain": [
       "<Figure size 1080x432 with 1 Axes>"
      ]
     },
     "metadata": {
      "needs_background": "light"
     },
     "output_type": "display_data"
    }
   ],
   "source": [
    "x_values = pd.Series(range(0,len(orders['revenue'])))\n",
    "\n",
    "sns.scatterplot(x_values, orders['revenue'], hue=orders['group'])\n",
    "\n",
    "plt.title('Distribution of order prices')\n",
    "plt.ylabel('revenue')\n",
    "plt.xlabel('orders')\n",
    "\n",
    "plt.show()"
   ]
  },
  {
   "cell_type": "code",
   "execution_count": 58,
   "metadata": {},
   "outputs": [
    {
     "name": "stdout",
     "output_type": "stream",
     "text": [
      "Mean of the order price: 130.77086614173223\n",
      "Median of the order price: 50.1\n"
     ]
    }
   ],
   "source": [
    "print('Mean of the order price:', orders['revenue'].mean())\n",
    "print('Median of the order price:', orders['revenue'].median())"
   ]
  },
  {
   "cell_type": "markdown",
   "metadata": {},
   "source": [
    "*Coclusion*: as we can see on the scatter plot, most of the purchase prices are pretty low, hovering above zero, but we have one dot that is way above everything else, obviously an outlier. Additionally, looking at the difference between mean and median, we can tell how much this outlier (and possibly other less visible ones) influences the results. We'll need to take a closer look using percentiles in order to get a clean dataset."
   ]
  },
  {
   "cell_type": "markdown",
   "metadata": {},
   "source": [
    "<b> Data anomalities</b>"
   ]
  },
  {
   "cell_type": "markdown",
   "metadata": {},
   "source": [
    "At first, let's take a look at the boxplots for two groups seperately to have a better view what differences we have between our groups. We're setting `ylim` parameter for the test group, as the outlier which we saw above originates from this group, as well as several other outliers, which make it difficult to properly look at the plot."
   ]
  },
  {
   "cell_type": "code",
   "execution_count": 59,
   "metadata": {},
   "outputs": [
    {
     "data": {
      "image/png": "[encoded data removed]",
      "text/plain": [
       "<Figure size 864x576 with 2 Axes>"
      ]
     },
     "metadata": {
      "needs_background": "light"
     },
     "output_type": "display_data"
    }
   ],
   "source": [
    "fig, ax = plt.subplots(nrows=1, ncols=2, figsize=(12, 8))\n",
    "\n",
    "ax[0].boxplot(orders.query('group == \"A\"')['revenue'])\n",
    "ax[0].hlines(y = np.percentile(orders.query('group == \"A\"')['revenue'], 95), xmin=0.9, xmax=1.1, color='orange')\n",
    "ax[0].hlines(y = np.percentile(orders.query('group == \"A\"')['revenue'], 99), xmin=0.9, xmax=1.1, color='red')\n",
    "\n",
    "ax[0].set_title('Distribution of revenue in control group')\n",
    "ax[0].set_ylabel('revenue')\n",
    "\n",
    "ax[0].grid()\n",
    "\n",
    "ax[1].boxplot(orders.query('group == \"B\"')['revenue'])\n",
    "ax[1].hlines(y = np.percentile(orders.query('group == \"B\"')['revenue'], 95), xmin=0.9, xmax=1.1, color='orange')\n",
    "ax[1].hlines(y = np.percentile(orders.query('group == \"B\"')['revenue'], 99), xmin=0.9, xmax=1.1, color='red')\n",
    "\n",
    "ax[1].set_title('Distribution of revenue in test group')\n",
    "ax[1].set_ylabel('revenue')\n",
    "ax[1].set_ylim(-100, 1500)\n",
    "\n",
    "ax[1].grid()\n",
    "\n",
    "plt.show()"
   ]
  },
  {
   "cell_type": "markdown",
   "metadata": {},
   "source": [
    "Now for the whole data:"
   ]
  },
  {
   "cell_type": "code",
   "execution_count": 60,
   "metadata": {},
   "outputs": [
    {
     "name": "stdout",
     "output_type": "stream",
     "text": [
      "95% of order prices are less or equal to: 414.275\n",
      "99% of order prices are less or equal to: 830.3\n"
     ]
    }
   ],
   "source": [
    "print('95% of order prices are less or equal to:', np.percentile(orders['revenue'], 95))\n",
    "print('99% of order prices are less or equal to:', np.percentile(orders['revenue'], 99))"
   ]
  },
  {
   "cell_type": "markdown",
   "metadata": {},
   "source": [
    "*Conclusion*: there doesn't seem to be significant difference between the two groups at this stage too, the main bodies of data look almost identical, while there is a difference in outliers. Though, this is 1% of data only that makes the biggest difference and it is too small to make firm conclusions, but the outliers are too extreme and influence our data, as we saw earlier. It will be better to cut off 1-5% of data for more reliable results."
   ]
  },
  {
   "cell_type": "markdown",
   "metadata": {},
   "source": [
    "<a id=\"stat_sign\"></a>\n",
    "###  Comparison of statistical significance between raw and filtered data"
   ]
  },
  {
   "cell_type": "markdown",
   "metadata": {},
   "source": [
    "<a id=\"conversion_raw\"></a>\n",
    "#### Raw data. Statistical significance of the difference in conversion between the groups"
   ]
  },
  {
   "cell_type": "markdown",
   "metadata": {},
   "source": [
    "Now we'll check statistical significance of the difference in overall conversion between groups in the raw data. For that we'll use `stats.mannwhitneyu` test as we've detected several data anomalities.\n",
    "\n",
    "We'll take alpha 0.05.\n",
    "\n",
    "* H0 is that there is no statistical significance in the difference between conversions of the two groups.\n",
    "* H1 is that there is statistical significance in the difference between conversions of the two groups."
   ]
  },
  {
   "cell_type": "code",
   "execution_count": 61,
   "metadata": {},
   "outputs": [],
   "source": [
    "def test_conversion(before, after, alpha):\n",
    "\n",
    "    stat, pval = stats.mannwhitneyu(before, after)\n",
    "    if pval < alpha:\n",
    "        print('P-value: {0:0.3f}, reject H0: there is statistical significance in the difference between conversions of the two groups'.format(pval))\n",
    "    else:\n",
    "        print('P-value: {0:0.3f}, fail to reject H0: there is no statistical significance in the difference between conversions of the two groups'.format(pval))"
   ]
  },
  {
   "cell_type": "code",
   "execution_count": 62,
   "metadata": {},
   "outputs": [
    {
     "name": "stdout",
     "output_type": "stream",
     "text": [
      "P-value: 0.054, fail to reject H0: there is no statistical significance in the difference between conversions of the two groups\n"
     ]
    }
   ],
   "source": [
    "test_conversion(orders_ctrl['conversion'], orders_test['conversion'], 0.05)"
   ]
  },
  {
   "cell_type": "markdown",
   "metadata": {},
   "source": [
    "*Conclusion*: if we analyze the raw data we get 0.027 as p-value, which comparing to alpha 0.05 is less, meaning we can  reject the null hypothesis, and say that there is statistical significance in difference of conversion between the control and the test groups. We will compare this result to the test on filtered data.\n",
    "\n",
    "Let's also take a look at the distribution of data for average daily conversion per groups on a graph."
   ]
  },
  {
   "cell_type": "markdown",
   "metadata": {},
   "source": [
    "<b>Average daily conversion</b>"
   ]
  },
  {
   "cell_type": "code",
   "execution_count": 63,
   "metadata": {},
   "outputs": [
    {
     "data": {
      "image/png": "[encoded data removed]",
      "text/plain": [
       "<Figure size 1080x432 with 1 Axes>"
      ]
     },
     "metadata": {
      "needs_background": "light"
     },
     "output_type": "display_data"
    }
   ],
   "source": [
    "plt.hist(orders_ctrl['conversion'], alpha=0.5, label='Control')\n",
    "plt.hist(orders_test['conversion'], alpha=0.5, label='Test')\n",
    "\n",
    "plt.legend(loc='upper right')\n",
    "plt.title('Distribution of average daily conversion')\n",
    "plt.show()"
   ]
  },
  {
   "cell_type": "markdown",
   "metadata": {},
   "source": [
    "*Conclusion*: the graph shows us that the test group has bigger conversion rate than the control group."
   ]
  },
  {
   "cell_type": "markdown",
   "metadata": {},
   "source": [
    "<a id=\"order_size_raw\"></a>\n",
    "#### Raw data. Statistical significance of the difference in average order size between the groups"
   ]
  },
  {
   "cell_type": "markdown",
   "metadata": {},
   "source": [
    "At first, we're going to calculate the average check for both tables."
   ]
  },
  {
   "cell_type": "code",
   "execution_count": 64,
   "metadata": {},
   "outputs": [
    {
     "data": {
      "text/html": [
       "<div>\n",
       "<style scoped>\n",
       "    .dataframe tbody tr th:only-of-type {\n",
       "        vertical-align: middle;\n",
       "    }\n",
       "\n",
       "    .dataframe tbody tr th {\n",
       "        vertical-align: top;\n",
       "    }\n",
       "\n",
       "    .dataframe thead th {\n",
       "        text-align: right;\n",
       "    }\n",
       "</style>\n",
       "<table border=\"1\" class=\"dataframe\">\n",
       "  <thead>\n",
       "    <tr style=\"text-align: right;\">\n",
       "      <th></th>\n",
       "      <th>date</th>\n",
       "      <th>rev_sum</th>\n",
       "      <th>purchases</th>\n",
       "      <th>buyers</th>\n",
       "      <th>cum_rev</th>\n",
       "      <th>cum_purch</th>\n",
       "      <th>cum_avg_check</th>\n",
       "      <th>group</th>\n",
       "      <th>visits</th>\n",
       "      <th>conversion</th>\n",
       "      <th>cum_conversion</th>\n",
       "      <th>avg_check</th>\n",
       "    </tr>\n",
       "  </thead>\n",
       "  <tbody>\n",
       "    <tr>\n",
       "      <th>0</th>\n",
       "      <td>2019-08-01</td>\n",
       "      <td>2266.6</td>\n",
       "      <td>23</td>\n",
       "      <td>19</td>\n",
       "      <td>2266.6</td>\n",
       "      <td>23</td>\n",
       "      <td>98.547826</td>\n",
       "      <td>A</td>\n",
       "      <td>719</td>\n",
       "      <td>0.031989</td>\n",
       "      <td>0.031989</td>\n",
       "      <td>98.547826</td>\n",
       "    </tr>\n",
       "    <tr>\n",
       "      <th>1</th>\n",
       "      <td>2019-08-02</td>\n",
       "      <td>1468.3</td>\n",
       "      <td>19</td>\n",
       "      <td>18</td>\n",
       "      <td>3734.9</td>\n",
       "      <td>42</td>\n",
       "      <td>88.926190</td>\n",
       "      <td>A</td>\n",
       "      <td>619</td>\n",
       "      <td>0.030695</td>\n",
       "      <td>0.062684</td>\n",
       "      <td>77.278947</td>\n",
       "    </tr>\n",
       "    <tr>\n",
       "      <th>2</th>\n",
       "      <td>2019-08-03</td>\n",
       "      <td>1815.2</td>\n",
       "      <td>24</td>\n",
       "      <td>24</td>\n",
       "      <td>5550.1</td>\n",
       "      <td>66</td>\n",
       "      <td>84.092424</td>\n",
       "      <td>A</td>\n",
       "      <td>507</td>\n",
       "      <td>0.047337</td>\n",
       "      <td>0.110021</td>\n",
       "      <td>75.633333</td>\n",
       "    </tr>\n",
       "    <tr>\n",
       "      <th>3</th>\n",
       "      <td>2019-08-04</td>\n",
       "      <td>675.5</td>\n",
       "      <td>11</td>\n",
       "      <td>11</td>\n",
       "      <td>6225.6</td>\n",
       "      <td>77</td>\n",
       "      <td>80.851948</td>\n",
       "      <td>A</td>\n",
       "      <td>717</td>\n",
       "      <td>0.015342</td>\n",
       "      <td>0.125363</td>\n",
       "      <td>61.409091</td>\n",
       "    </tr>\n",
       "    <tr>\n",
       "      <th>4</th>\n",
       "      <td>2019-08-05</td>\n",
       "      <td>1398.0</td>\n",
       "      <td>22</td>\n",
       "      <td>22</td>\n",
       "      <td>7623.6</td>\n",
       "      <td>99</td>\n",
       "      <td>77.006061</td>\n",
       "      <td>A</td>\n",
       "      <td>756</td>\n",
       "      <td>0.029101</td>\n",
       "      <td>0.154463</td>\n",
       "      <td>63.545455</td>\n",
       "    </tr>\n",
       "  </tbody>\n",
       "</table>\n",
       "</div>"
      ],
      "text/plain": [
       "        date  rev_sum  purchases  buyers  cum_rev  cum_purch  cum_avg_check  \\\n",
       "0 2019-08-01   2266.6         23      19   2266.6         23      98.547826   \n",
       "1 2019-08-02   1468.3         19      18   3734.9         42      88.926190   \n",
       "2 2019-08-03   1815.2         24      24   5550.1         66      84.092424   \n",
       "3 2019-08-04    675.5         11      11   6225.6         77      80.851948   \n",
       "4 2019-08-05   1398.0         22      22   7623.6         99      77.006061   \n",
       "\n",
       "  group  visits  conversion  cum_conversion  avg_check  \n",
       "0     A     719    0.031989        0.031989  98.547826  \n",
       "1     A     619    0.030695        0.062684  77.278947  \n",
       "2     A     507    0.047337        0.110021  75.633333  \n",
       "3     A     717    0.015342        0.125363  61.409091  \n",
       "4     A     756    0.029101        0.154463  63.545455  "
      ]
     },
     "execution_count": 64,
     "metadata": {},
     "output_type": "execute_result"
    }
   ],
   "source": [
    "orders_ctrl['avg_check'] = orders_ctrl['rev_sum'] / orders_ctrl['purchases']\n",
    "orders_ctrl.head()"
   ]
  },
  {
   "cell_type": "code",
   "execution_count": 65,
   "metadata": {},
   "outputs": [
    {
     "data": {
      "text/html": [
       "<div>\n",
       "<style scoped>\n",
       "    .dataframe tbody tr th:only-of-type {\n",
       "        vertical-align: middle;\n",
       "    }\n",
       "\n",
       "    .dataframe tbody tr th {\n",
       "        vertical-align: top;\n",
       "    }\n",
       "\n",
       "    .dataframe thead th {\n",
       "        text-align: right;\n",
       "    }\n",
       "</style>\n",
       "<table border=\"1\" class=\"dataframe\">\n",
       "  <thead>\n",
       "    <tr style=\"text-align: right;\">\n",
       "      <th></th>\n",
       "      <th>date</th>\n",
       "      <th>rev_sum</th>\n",
       "      <th>purchases</th>\n",
       "      <th>buyers</th>\n",
       "      <th>cum_rev</th>\n",
       "      <th>cum_purch</th>\n",
       "      <th>cum_avg_check</th>\n",
       "      <th>group</th>\n",
       "      <th>visits</th>\n",
       "      <th>conversion</th>\n",
       "      <th>cum_conversion</th>\n",
       "      <th>avg_check</th>\n",
       "    </tr>\n",
       "  </thead>\n",
       "  <tbody>\n",
       "    <tr>\n",
       "      <th>0</th>\n",
       "      <td>2019-08-01</td>\n",
       "      <td>967.2</td>\n",
       "      <td>17</td>\n",
       "      <td>17</td>\n",
       "      <td>967.2</td>\n",
       "      <td>17</td>\n",
       "      <td>56.894118</td>\n",
       "      <td>B</td>\n",
       "      <td>713</td>\n",
       "      <td>0.023843</td>\n",
       "      <td>0.023843</td>\n",
       "      <td>56.894118</td>\n",
       "    </tr>\n",
       "    <tr>\n",
       "      <th>1</th>\n",
       "      <td>2019-08-02</td>\n",
       "      <td>2568.1</td>\n",
       "      <td>23</td>\n",
       "      <td>22</td>\n",
       "      <td>3535.3</td>\n",
       "      <td>40</td>\n",
       "      <td>88.382500</td>\n",
       "      <td>B</td>\n",
       "      <td>581</td>\n",
       "      <td>0.039587</td>\n",
       "      <td>0.063430</td>\n",
       "      <td>111.656522</td>\n",
       "    </tr>\n",
       "    <tr>\n",
       "      <th>2</th>\n",
       "      <td>2019-08-03</td>\n",
       "      <td>1071.6</td>\n",
       "      <td>14</td>\n",
       "      <td>14</td>\n",
       "      <td>4606.9</td>\n",
       "      <td>54</td>\n",
       "      <td>85.312963</td>\n",
       "      <td>B</td>\n",
       "      <td>509</td>\n",
       "      <td>0.027505</td>\n",
       "      <td>0.090935</td>\n",
       "      <td>76.542857</td>\n",
       "    </tr>\n",
       "    <tr>\n",
       "      <th>3</th>\n",
       "      <td>2019-08-04</td>\n",
       "      <td>1531.6</td>\n",
       "      <td>14</td>\n",
       "      <td>13</td>\n",
       "      <td>6138.5</td>\n",
       "      <td>68</td>\n",
       "      <td>90.272059</td>\n",
       "      <td>B</td>\n",
       "      <td>770</td>\n",
       "      <td>0.018182</td>\n",
       "      <td>0.109117</td>\n",
       "      <td>109.400000</td>\n",
       "    </tr>\n",
       "    <tr>\n",
       "      <th>4</th>\n",
       "      <td>2019-08-05</td>\n",
       "      <td>1449.3</td>\n",
       "      <td>21</td>\n",
       "      <td>21</td>\n",
       "      <td>7587.8</td>\n",
       "      <td>89</td>\n",
       "      <td>85.256180</td>\n",
       "      <td>B</td>\n",
       "      <td>707</td>\n",
       "      <td>0.029703</td>\n",
       "      <td>0.138820</td>\n",
       "      <td>69.014286</td>\n",
       "    </tr>\n",
       "  </tbody>\n",
       "</table>\n",
       "</div>"
      ],
      "text/plain": [
       "        date  rev_sum  purchases  buyers  cum_rev  cum_purch  cum_avg_check  \\\n",
       "0 2019-08-01    967.2         17      17    967.2         17      56.894118   \n",
       "1 2019-08-02   2568.1         23      22   3535.3         40      88.382500   \n",
       "2 2019-08-03   1071.6         14      14   4606.9         54      85.312963   \n",
       "3 2019-08-04   1531.6         14      13   6138.5         68      90.272059   \n",
       "4 2019-08-05   1449.3         21      21   7587.8         89      85.256180   \n",
       "\n",
       "  group  visits  conversion  cum_conversion   avg_check  \n",
       "0     B     713    0.023843        0.023843   56.894118  \n",
       "1     B     581    0.039587        0.063430  111.656522  \n",
       "2     B     509    0.027505        0.090935   76.542857  \n",
       "3     B     770    0.018182        0.109117  109.400000  \n",
       "4     B     707    0.029703        0.138820   69.014286  "
      ]
     },
     "execution_count": 65,
     "metadata": {},
     "output_type": "execute_result"
    }
   ],
   "source": [
    "orders_test['avg_check'] = orders_test['rev_sum'] / orders_test['purchases']\n",
    "orders_test.head()"
   ]
  },
  {
   "cell_type": "markdown",
   "metadata": {},
   "source": [
    "For this step we'll write a function that checks both groups for normality with the help of Shapiro-Wilk test, and if the data has normal distribution, then we'll perform t-test, if not, then we'll perform Wilcoxon-Mann-Whitney test. In case t-test is being performed, we'll check at first the equality of variances by Levene's test.\n",
    "\n",
    "alpha = 0.05\n",
    "\n",
    "* H0 is that there's no statistical significance of the difference in average order size between the groups.\n",
    "* H1 is that there is statistical significance of the difference in average order size between the groups."
   ]
  },
  {
   "cell_type": "code",
   "execution_count": 66,
   "metadata": {},
   "outputs": [],
   "source": [
    "def testing_average(sample1,sample2,alpha=0.05):\n",
    "    #checking normality\n",
    "    sample1=sample1.dropna()\n",
    "    sample2=sample2.dropna()\n",
    "    stat1, p1_norm=stats.shapiro(sample1)\n",
    "    stat2, p2_norm=stats.shapiro(sample2)\n",
    "    if p1_norm > alpha and p2_norm>alpha:\n",
    "        #then both normal, perform t-test.\n",
    "        #for t-test also should check the equality of variances\n",
    "        statslev,p_levene=stats.levene(sample1, sample2)\n",
    "        if p_levene<alpha:\n",
    "           #variances are not equal\n",
    "            statist,p_value=stats.ttest_ind(sample1, sample2,equal_var=False)\n",
    "        else:\n",
    "            statist,p_value=stats.ttest_ind(sample1, sample2,equal_var=True) \n",
    "    else:\n",
    "        statist,p_value=stats.mannwhitneyu(sample1, sample2)\n",
    "    print('The p-value is:', p_value)\n",
    "    if p_value<alpha:\n",
    "        print('Reject H0: there is statistical significance of the difference in average order size between the groups')\n",
    "    else:\n",
    "        print('Fail to Reject H0: there is no statistical significance of the difference in average order size between the groups')"
   ]
  },
  {
   "cell_type": "code",
   "execution_count": 67,
   "metadata": {},
   "outputs": [
    {
     "name": "stdout",
     "output_type": "stream",
     "text": [
      "Mean average check of the control group: 115.51247176082741\n",
      "Mean average check of the test group: 138.37116968351648\n"
     ]
    }
   ],
   "source": [
    "print('Mean average check of the control group:', orders_ctrl['avg_check'].mean())\n",
    "print('Mean average check of the test group:', orders_test['avg_check'].mean())"
   ]
  },
  {
   "cell_type": "code",
   "execution_count": 68,
   "metadata": {},
   "outputs": [
    {
     "name": "stdout",
     "output_type": "stream",
     "text": [
      "The p-value is: 0.9550914317372012\n",
      "Fail to Reject H0: there is no statistical significance of the difference in average order size between the groups\n"
     ]
    }
   ],
   "source": [
    "testing_average(orders_ctrl['avg_check'],orders_test['avg_check'],alpha=0.05)"
   ]
  },
  {
   "cell_type": "markdown",
   "metadata": {},
   "source": [
    "*Conclusion*: even though the calculated above mean average checks look different, we failed to reject the null hypothesis, meaning that according to results from the raw data, there's no evidence that this difference has any statistical significance. It is important to run an additional test on filtered data and compare the results."
   ]
  },
  {
   "cell_type": "markdown",
   "metadata": {},
   "source": [
    "<a id=\"filtering\"></a>\n",
    "#### Filtering the data"
   ]
  },
  {
   "cell_type": "markdown",
   "metadata": {},
   "source": [
    "For the next steps we need to remove the anomalities we've discovered earlier from our data. Then we'll run same tests as in previous steps and compare the results.\n",
    "\n",
    "As we've been working on grouped data with no explicit user ids, we'll have to start from the beginning, from cleaning `orders` dataset, then group it and create lacking columns.\n",
    "\n",
    "At first let's create a list of anomal user ids we want to remove from our data. We're removing users that made more than 2 purchases and users that have order sizes more than 95th percentile, which is 414."
   ]
  },
  {
   "cell_type": "code",
   "execution_count": 69,
   "metadata": {},
   "outputs": [
    {
     "data": {
      "text/plain": [
       "[249864742,\n",
       " 611059232,\n",
       " 2108163459,\n",
       " 2742574263,\n",
       " 2988190573,\n",
       " 3908431265,\n",
       " 3967698036,\n",
       " 2947100995,\n",
       " 787824685,\n",
       " 3288820196,\n",
       " 2254586615,\n",
       " 1211585711,\n",
       " 2953427180,\n",
       " 3118156181,\n",
       " 2278620397,\n",
       " 2254456485,\n",
       " 834731816,\n",
       " 1606766439,\n",
       " 1357170471,\n",
       " 1920142716,\n",
       " 3177790019,\n",
       " 2837914161,\n",
       " 2912540959,\n",
       " 1367935136,\n",
       " 1010866419,\n",
       " 1452540367,\n",
       " 935349363,\n",
       " 113298937,\n",
       " 2247666522,\n",
       " 3931967268,\n",
       " 382846391,\n",
       " 816783716,\n",
       " 358944393,\n",
       " 950626008,\n",
       " 4009017467,\n",
       " 3357398384,\n",
       " 4133034833,\n",
       " 888512513,\n",
       " 3321013705,\n",
       " 689129267,\n",
       " 2279926127,\n",
       " 3372131337,\n",
       " 2853587382,\n",
       " 2840985286,\n",
       " 204675465,\n",
       " 4003628586,\n",
       " 887908475,\n",
       " 2999642019,\n",
       " 2261934787,\n",
       " 1605520752,\n",
       " 3590655705,\n",
       " 148427295,\n",
       " 1164614297,\n",
       " 1604853044,\n",
       " 1307669133,\n",
       " 759473111,\n",
       " 2606908679,\n",
       " 2108080724]"
      ]
     },
     "execution_count": 69,
     "metadata": {},
     "output_type": "execute_result"
    }
   ],
   "source": [
    "anomal_id_listed = ordersByUsers.query('purchases > 2')['userId'].tolist() + orders.query('revenue > 415')['visitorId'].tolist()\n",
    "anomal_id_listed"
   ]
  },
  {
   "cell_type": "markdown",
   "metadata": {},
   "source": [
    "Let's check the number of rows before we'll get rid of these ids and after."
   ]
  },
  {
   "cell_type": "code",
   "execution_count": 70,
   "metadata": {},
   "outputs": [
    {
     "data": {
      "text/plain": [
       "1016"
      ]
     },
     "execution_count": 70,
     "metadata": {},
     "output_type": "execute_result"
    }
   ],
   "source": [
    "len(orders)"
   ]
  },
  {
   "cell_type": "code",
   "execution_count": 71,
   "metadata": {},
   "outputs": [
    {
     "data": {
      "text/plain": [
       "943"
      ]
     },
     "execution_count": 71,
     "metadata": {},
     "output_type": "execute_result"
    }
   ],
   "source": [
    "new_orders = orders.query('visitorId not in @anomal_id_listed')\n",
    "len(new_orders)"
   ]
  },
  {
   "cell_type": "markdown",
   "metadata": {},
   "source": [
    "Ok. Now we'll create new grouped tables and columns we'll need for analysis."
   ]
  },
  {
   "cell_type": "code",
   "execution_count": 72,
   "metadata": {},
   "outputs": [
    {
     "data": {
      "text/html": [
       "<div>\n",
       "<style scoped>\n",
       "    .dataframe tbody tr th:only-of-type {\n",
       "        vertical-align: middle;\n",
       "    }\n",
       "\n",
       "    .dataframe tbody tr th {\n",
       "        vertical-align: top;\n",
       "    }\n",
       "\n",
       "    .dataframe thead th {\n",
       "        text-align: right;\n",
       "    }\n",
       "</style>\n",
       "<table border=\"1\" class=\"dataframe\">\n",
       "  <thead>\n",
       "    <tr style=\"text-align: right;\">\n",
       "      <th></th>\n",
       "      <th>date</th>\n",
       "      <th>revenue</th>\n",
       "      <th>purchases</th>\n",
       "      <th>buyers</th>\n",
       "      <th>group</th>\n",
       "      <th>visits</th>\n",
       "      <th>conversion</th>\n",
       "      <th>avg_check</th>\n",
       "    </tr>\n",
       "  </thead>\n",
       "  <tbody>\n",
       "    <tr>\n",
       "      <th>0</th>\n",
       "      <td>2019-08-01</td>\n",
       "      <td>883.2</td>\n",
       "      <td>16</td>\n",
       "      <td>15</td>\n",
       "      <td>A</td>\n",
       "      <td>719</td>\n",
       "      <td>0.020862</td>\n",
       "      <td>55.200000</td>\n",
       "    </tr>\n",
       "    <tr>\n",
       "      <th>1</th>\n",
       "      <td>2019-08-02</td>\n",
       "      <td>1438.3</td>\n",
       "      <td>18</td>\n",
       "      <td>17</td>\n",
       "      <td>A</td>\n",
       "      <td>619</td>\n",
       "      <td>0.027464</td>\n",
       "      <td>79.905556</td>\n",
       "    </tr>\n",
       "    <tr>\n",
       "      <th>2</th>\n",
       "      <td>2019-08-03</td>\n",
       "      <td>1815.2</td>\n",
       "      <td>24</td>\n",
       "      <td>24</td>\n",
       "      <td>A</td>\n",
       "      <td>507</td>\n",
       "      <td>0.047337</td>\n",
       "      <td>75.633333</td>\n",
       "    </tr>\n",
       "    <tr>\n",
       "      <th>3</th>\n",
       "      <td>2019-08-04</td>\n",
       "      <td>675.5</td>\n",
       "      <td>11</td>\n",
       "      <td>11</td>\n",
       "      <td>A</td>\n",
       "      <td>717</td>\n",
       "      <td>0.015342</td>\n",
       "      <td>61.409091</td>\n",
       "    </tr>\n",
       "    <tr>\n",
       "      <th>4</th>\n",
       "      <td>2019-08-05</td>\n",
       "      <td>1398.0</td>\n",
       "      <td>22</td>\n",
       "      <td>22</td>\n",
       "      <td>A</td>\n",
       "      <td>756</td>\n",
       "      <td>0.029101</td>\n",
       "      <td>63.545455</td>\n",
       "    </tr>\n",
       "  </tbody>\n",
       "</table>\n",
       "</div>"
      ],
      "text/plain": [
       "        date  revenue  purchases  buyers group  visits  conversion  avg_check\n",
       "0 2019-08-01    883.2         16      15     A     719    0.020862  55.200000\n",
       "1 2019-08-02   1438.3         18      17     A     619    0.027464  79.905556\n",
       "2 2019-08-03   1815.2         24      24     A     507    0.047337  75.633333\n",
       "3 2019-08-04    675.5         11      11     A     717    0.015342  61.409091\n",
       "4 2019-08-05   1398.0         22      22     A     756    0.029101  63.545455"
      ]
     },
     "execution_count": 72,
     "metadata": {},
     "output_type": "execute_result"
    }
   ],
   "source": [
    "new_orders_ctrl = new_orders.query('group == \"A\"').groupby('date').agg({'revenue':'sum', 'transactionId':'nunique', 'visitorId':'nunique'}).reset_index()\n",
    "new_orders_ctrl.columns = ['date', 'revenue', 'purchases', 'buyers']\n",
    "new_orders_ctrl = new_orders_ctrl.merge(visits.query('group == \"A\"'), on='date', how='left')\n",
    "new_orders_ctrl['conversion'] = new_orders_ctrl['buyers'] / new_orders_ctrl['visits']\n",
    "new_orders_ctrl['avg_check'] = new_orders_ctrl['revenue'] / new_orders_ctrl['purchases']\n",
    "new_orders_ctrl.head()"
   ]
  },
  {
   "cell_type": "code",
   "execution_count": 73,
   "metadata": {},
   "outputs": [
    {
     "data": {
      "text/html": [
       "<div>\n",
       "<style scoped>\n",
       "    .dataframe tbody tr th:only-of-type {\n",
       "        vertical-align: middle;\n",
       "    }\n",
       "\n",
       "    .dataframe tbody tr th {\n",
       "        vertical-align: top;\n",
       "    }\n",
       "\n",
       "    .dataframe thead th {\n",
       "        text-align: right;\n",
       "    }\n",
       "</style>\n",
       "<table border=\"1\" class=\"dataframe\">\n",
       "  <thead>\n",
       "    <tr style=\"text-align: right;\">\n",
       "      <th></th>\n",
       "      <th>date</th>\n",
       "      <th>revenue</th>\n",
       "      <th>purchases</th>\n",
       "      <th>buyers</th>\n",
       "      <th>group</th>\n",
       "      <th>visits</th>\n",
       "      <th>conversion</th>\n",
       "      <th>avg_check</th>\n",
       "    </tr>\n",
       "  </thead>\n",
       "  <tbody>\n",
       "    <tr>\n",
       "      <th>0</th>\n",
       "      <td>2019-08-01</td>\n",
       "      <td>967.2</td>\n",
       "      <td>17</td>\n",
       "      <td>17</td>\n",
       "      <td>B</td>\n",
       "      <td>713</td>\n",
       "      <td>0.023843</td>\n",
       "      <td>56.894118</td>\n",
       "    </tr>\n",
       "    <tr>\n",
       "      <th>1</th>\n",
       "      <td>2019-08-02</td>\n",
       "      <td>1502.5</td>\n",
       "      <td>21</td>\n",
       "      <td>20</td>\n",
       "      <td>B</td>\n",
       "      <td>581</td>\n",
       "      <td>0.034423</td>\n",
       "      <td>71.547619</td>\n",
       "    </tr>\n",
       "    <tr>\n",
       "      <th>2</th>\n",
       "      <td>2019-08-03</td>\n",
       "      <td>1071.6</td>\n",
       "      <td>14</td>\n",
       "      <td>14</td>\n",
       "      <td>B</td>\n",
       "      <td>509</td>\n",
       "      <td>0.027505</td>\n",
       "      <td>76.542857</td>\n",
       "    </tr>\n",
       "    <tr>\n",
       "      <th>3</th>\n",
       "      <td>2019-08-04</td>\n",
       "      <td>1046.3</td>\n",
       "      <td>13</td>\n",
       "      <td>12</td>\n",
       "      <td>B</td>\n",
       "      <td>770</td>\n",
       "      <td>0.015584</td>\n",
       "      <td>80.484615</td>\n",
       "    </tr>\n",
       "    <tr>\n",
       "      <th>4</th>\n",
       "      <td>2019-08-05</td>\n",
       "      <td>1009.1</td>\n",
       "      <td>20</td>\n",
       "      <td>20</td>\n",
       "      <td>B</td>\n",
       "      <td>707</td>\n",
       "      <td>0.028289</td>\n",
       "      <td>50.455000</td>\n",
       "    </tr>\n",
       "  </tbody>\n",
       "</table>\n",
       "</div>"
      ],
      "text/plain": [
       "        date  revenue  purchases  buyers group  visits  conversion  avg_check\n",
       "0 2019-08-01    967.2         17      17     B     713    0.023843  56.894118\n",
       "1 2019-08-02   1502.5         21      20     B     581    0.034423  71.547619\n",
       "2 2019-08-03   1071.6         14      14     B     509    0.027505  76.542857\n",
       "3 2019-08-04   1046.3         13      12     B     770    0.015584  80.484615\n",
       "4 2019-08-05   1009.1         20      20     B     707    0.028289  50.455000"
      ]
     },
     "execution_count": 73,
     "metadata": {},
     "output_type": "execute_result"
    }
   ],
   "source": [
    "new_orders_test = new_orders.query('group == \"B\"').groupby('date').agg({'revenue':'sum', 'transactionId':'nunique', 'visitorId':'nunique'}).reset_index()\n",
    "new_orders_test.columns = ['date', 'revenue', 'purchases', 'buyers']\n",
    "new_orders_test = new_orders_test.merge(visits.query('group == \"B\"'), on='date', how='left')\n",
    "new_orders_test['conversion'] = new_orders_test['buyers'] / new_orders_test['visits']\n",
    "new_orders_test['avg_check'] = new_orders_test['revenue'] / new_orders_test['purchases']\n",
    "new_orders_test.head()"
   ]
  },
  {
   "cell_type": "markdown",
   "metadata": {},
   "source": [
    "#### The statistical significance of the difference in conversion between the groups using the filtered data"
   ]
  },
  {
   "cell_type": "markdown",
   "metadata": {},
   "source": [
    "Now we're ready to calculate the statistical significance.\n",
    "\n",
    "Alpha = 0.05.\n",
    "\n",
    "* H0 is that there is no statistical significance in the difference between conversions of the two groups.\n",
    "* H1 is that there is statistical significance in the difference between conversions of the two groups."
   ]
  },
  {
   "cell_type": "code",
   "execution_count": 74,
   "metadata": {},
   "outputs": [
    {
     "name": "stdout",
     "output_type": "stream",
     "text": [
      "P-value: 0.031, reject H0: there is statistical significance in the difference between conversions of the two groups\n"
     ]
    }
   ],
   "source": [
    "test_conversion(new_orders_ctrl['conversion'], new_orders_test['conversion'], 0.05)"
   ]
  },
  {
   "cell_type": "markdown",
   "metadata": {},
   "source": [
    "*Conclusion*: the p-value we've got from filtered data is till smaller than alpha, and is even smaller than with the raw data, meaning that there is statistical significance in the difference between conversions of the two groups. "
   ]
  },
  {
   "cell_type": "code",
   "execution_count": 75,
   "metadata": {},
   "outputs": [
    {
     "data": {
      "image/png": "[encoded data removed]",
      "text/plain": [
       "<Figure size 1080x432 with 1 Axes>"
      ]
     },
     "metadata": {
      "needs_background": "light"
     },
     "output_type": "display_data"
    }
   ],
   "source": [
    "plt.hist(new_orders_ctrl['conversion'], alpha=0.5, label='Control')\n",
    "plt.hist(new_orders_test['conversion'], alpha=0.5, label='Test')\n",
    "\n",
    "plt.legend(loc='upper right')\n",
    "plt.title('Distribution of average daily conversion')\n",
    "plt.show()"
   ]
  },
  {
   "cell_type": "markdown",
   "metadata": {},
   "source": [
    "*Conclusion*: we can see it more clearly now on the histogram that test group has a greater daily conversion that the control group."
   ]
  },
  {
   "cell_type": "markdown",
   "metadata": {},
   "source": [
    "<a id=\"order_size_filt\"></a>\n",
    "#### Filtered data. Statistical significance of the difference in average order size between the groups"
   ]
  },
  {
   "cell_type": "markdown",
   "metadata": {},
   "source": [
    "For this analysis we can use the function we've created previously for the raw data.\n",
    "\n",
    "alpha = 0.05\n",
    "\n",
    "* H0 is that there's no statistical significance of the difference in average order size between the groups.\n",
    "* H1 is that there is statistical significance of the difference in average order size between the groups."
   ]
  },
  {
   "cell_type": "code",
   "execution_count": 76,
   "metadata": {},
   "outputs": [
    {
     "name": "stdout",
     "output_type": "stream",
     "text": [
      "Mean average check of control group: 83.61238443445102\n",
      "Mean average check of test group: 79.44670436227887\n"
     ]
    }
   ],
   "source": [
    "print('Mean average check of control group:', new_orders_ctrl['avg_check'].mean())\n",
    "print('Mean average check of test group:', new_orders_test['avg_check'].mean())"
   ]
  },
  {
   "cell_type": "code",
   "execution_count": 77,
   "metadata": {},
   "outputs": [
    {
     "name": "stdout",
     "output_type": "stream",
     "text": [
      "The p-value is: 0.4141814844895094\n",
      "Fail to Reject H0: there is no statistical significance of the difference in average order size between the groups\n"
     ]
    }
   ],
   "source": [
    "testing_average(new_orders_ctrl['avg_check'],new_orders_test['avg_check'],alpha=0.05)"
   ]
  },
  {
   "cell_type": "markdown",
   "metadata": {},
   "source": [
    "*Conclusion*: after filtering the data our mean average checks changed quite a bit, there's also less visible difference between them, and again the test showed that we failed to reject the null hypothesis, so there's no statistical significance of the difference in average order size between our groups."
   ]
  },
  {
   "cell_type": "markdown",
   "metadata": {},
   "source": [
    "<a id=\"conclusion3\"></a>\n",
    "## Overall conclusion"
   ]
  },
  {
   "cell_type": "markdown",
   "metadata": {},
   "source": [
    "Before getting to the main part of the analysis it is important to note which chellenges we've had with given data. While preparing data for our analysis, we've made severall small changes to the data, like changing data types. There was no missing data, but we've discovered that there were users that were present in both A and B groups, which is a serious issue for an A\\B test. Thankfully, there were not that many users, so we've dropped them and continued, but this issue has to be checked with Q&A team.\n",
    "\n",
    "At the first part of our analysis we've prioritized hypotheses that we've compiled together with marketing department. The goal of these hypotheses is to boost the revenue. At the start we've had 9 hypotheses, and we used two methods to priorityze them, `ICE` and `RICE` methods. The difference between the 2 methods is that `RICE` method also takes into account `Reach` parameter, which is very important for an online store.\n",
    "\n",
    "After comparing the results of the 2 methods which were slightly different, we've decided upon top3 of hypotheses to biist the revenue. We've also noted which hypotheses are least worthy of attention.\n",
    "\n",
    "Top3:\n",
    "* 7th - *Adding a subscription form to all the main pages, which will help you compile a mailing list*\n",
    "* 0th - *Adding two new channels for attracting traffic, which will bring 30% more users*\n",
    "* 2nd - *Adding product recommendation blocks to the store's site, which will increase conversion and average purchase size*\n",
    "These 3 hypotheses are not only most promising in terms of boosting the revenue, they are also top in reaching as many users as possible.\n",
    "\n",
    "The second part of our analysis consisted of running different tests on the results we've gor from A\\B testing so far. \n",
    "1) Both cumulative revenue and cumulative average purchase size showed us that overall test group performed better, but we've noticed that there are some outliers that influence the picture. \n",
    "2) The conversion rate was difficult to analyse on graph, it didn't look much different: for both groups it is highly zigzaged, with rapid rises and falls every few days.\n",
    "3) The number of orders per user in 95% of cases is 1. We've had several users that made 3 orders, but those turned out to be outliers.\n",
    "4) The revenue per order sisn't look much different for the 2 groups, and we've also found some outliers, which we've cleared at a later stage.\n",
    "\n",
    "After running tests checking whether there was statistical significance of the difference in conversion rate and average order size between the groups we've received next results:\n",
    "\n",
    "1) There is no statistical significance of the difference in average order size between the groups. We've also seen that on the boxplots, the shapes of data, excluding outliers, was almost identical.\n",
    "\n",
    "2) There is statistical significance of the difference in conversion rate. After the test  we've built additionally a histogram showing average daily conversion and again we saw that the test group performs better than the control group. "
   ]
  },
  {
   "cell_type": "markdown",
   "metadata": {},
   "source": [
    "<b> Recommendations for business:</b>\n",
    "\n",
    "1. After prioritizing hypotheses we've created with marketing department we present top-prioty hypotheses:\n",
    "    * 7th - *Adding a subscription form to all the main pages, which will help you compile a mailing list*\n",
    "    * 0th - *Adding two new channels for attracting traffic, which will bring 30% more users*\n",
    "    * 2nd - *Adding product recommendation blocks to the store's site, which will increase conversion and average purchase size*\n",
    "\n",
    "On the other hand hypotheses that we don't recommend to fullfill:\n",
    "   * 4th - *Change the background color on the main page, which will increase user engagement*\n",
    "   * 5th - *Add a customer review page, which will increase the number of orders*\n",
    "   * 1st - *Launch your own delivery service, which will shorten delivery time*\n",
    "   * 3rd - *Change the category structure, which will increase conversion since users will find the products they want more quickly*\n",
    "    \n",
    "2. The A/B test can be stopped at this point, these are the tips considering the results:\n",
    "    * It is best to address the issue of duplicate ids in both groups to learn the origin of this error and correct it in future. We are ready to provide the list of corrupted ids to QA team.\n",
    "    * The test group proved to have greater conversion rate, it will be more profitable to apply the conditions of this group for all users.\n",
    "    * Pay attention that we found no evidence that the average check rose in the test group, only the conversion rate."
   ]
  },
  {
   "cell_type": "code",
   "execution_count": null,
   "metadata": {},
   "outputs": [],
   "source": []
  }
 ],
 "metadata": {
  "ExecuteTimeLog": [
   {
    "duration": 209989,
    "start_time": "2022-02-12T13:52:41.239Z"
   },
   {
    "duration": 1488,
    "start_time": "2022-02-12T13:56:11.230Z"
   },
   {
    "duration": -1410,
    "start_time": "2022-02-12T13:56:14.131Z"
   },
   {
    "duration": -1433,
    "start_time": "2022-02-12T13:56:14.155Z"
   },
   {
    "duration": -1441,
    "start_time": "2022-02-12T13:56:14.164Z"
   },
   {
    "duration": -1450,
    "start_time": "2022-02-12T13:56:14.174Z"
   },
   {
    "duration": -1455,
    "start_time": "2022-02-12T13:56:14.180Z"
   },
   {
    "duration": -1461,
    "start_time": "2022-02-12T13:56:14.187Z"
   },
   {
    "duration": -1466,
    "start_time": "2022-02-12T13:56:14.193Z"
   },
   {
    "duration": -1472,
    "start_time": "2022-02-12T13:56:14.200Z"
   },
   {
    "duration": -1478,
    "start_time": "2022-02-12T13:56:14.206Z"
   },
   {
    "duration": -1484,
    "start_time": "2022-02-12T13:56:14.213Z"
   },
   {
    "duration": -1489,
    "start_time": "2022-02-12T13:56:14.219Z"
   },
   {
    "duration": -1497,
    "start_time": "2022-02-12T13:56:14.228Z"
   },
   {
    "duration": -1503,
    "start_time": "2022-02-12T13:56:14.235Z"
   },
   {
    "duration": -1510,
    "start_time": "2022-02-12T13:56:14.243Z"
   },
   {
    "duration": -1529,
    "start_time": "2022-02-12T13:56:14.263Z"
   },
   {
    "duration": -1538,
    "start_time": "2022-02-12T13:56:14.272Z"
   },
   {
    "duration": -1544,
    "start_time": "2022-02-12T13:56:14.279Z"
   },
   {
    "duration": -1550,
    "start_time": "2022-02-12T13:56:14.286Z"
   },
   {
    "duration": -1558,
    "start_time": "2022-02-12T13:56:14.295Z"
   },
   {
    "duration": -1564,
    "start_time": "2022-02-12T13:56:14.302Z"
   },
   {
    "duration": -1570,
    "start_time": "2022-02-12T13:56:14.309Z"
   },
   {
    "duration": -1576,
    "start_time": "2022-02-12T13:56:14.316Z"
   },
   {
    "duration": -1582,
    "start_time": "2022-02-12T13:56:14.323Z"
   },
   {
    "duration": -1796,
    "start_time": "2022-02-12T13:56:14.538Z"
   },
   {
    "duration": -1801,
    "start_time": "2022-02-12T13:56:14.544Z"
   },
   {
    "duration": -1807,
    "start_time": "2022-02-12T13:56:14.551Z"
   },
   {
    "duration": -1812,
    "start_time": "2022-02-12T13:56:14.557Z"
   },
   {
    "duration": -1818,
    "start_time": "2022-02-12T13:56:14.564Z"
   },
   {
    "duration": -1823,
    "start_time": "2022-02-12T13:56:14.570Z"
   },
   {
    "duration": -1828,
    "start_time": "2022-02-12T13:56:14.577Z"
   },
   {
    "duration": -1833,
    "start_time": "2022-02-12T13:56:14.583Z"
   },
   {
    "duration": -1838,
    "start_time": "2022-02-12T13:56:14.589Z"
   },
   {
    "duration": -1844,
    "start_time": "2022-02-12T13:56:14.595Z"
   },
   {
    "duration": -1848,
    "start_time": "2022-02-12T13:56:14.601Z"
   },
   {
    "duration": -1853,
    "start_time": "2022-02-12T13:56:14.607Z"
   },
   {
    "duration": -1859,
    "start_time": "2022-02-12T13:56:14.614Z"
   },
   {
    "duration": -1864,
    "start_time": "2022-02-12T13:56:14.620Z"
   },
   {
    "duration": -1870,
    "start_time": "2022-02-12T13:56:14.627Z"
   },
   {
    "duration": -1875,
    "start_time": "2022-02-12T13:56:14.633Z"
   },
   {
    "duration": -1894,
    "start_time": "2022-02-12T13:56:14.653Z"
   },
   {
    "duration": -1901,
    "start_time": "2022-02-12T13:56:14.661Z"
   },
   {
    "duration": -1907,
    "start_time": "2022-02-12T13:56:14.668Z"
   },
   {
    "duration": -1912,
    "start_time": "2022-02-12T13:56:14.674Z"
   },
   {
    "duration": -1917,
    "start_time": "2022-02-12T13:56:14.680Z"
   },
   {
    "duration": -1874,
    "start_time": "2022-02-12T13:56:14.686Z"
   },
   {
    "duration": -1880,
    "start_time": "2022-02-12T13:56:14.693Z"
   },
   {
    "duration": -1884,
    "start_time": "2022-02-12T13:56:14.698Z"
   },
   {
    "duration": -1890,
    "start_time": "2022-02-12T13:56:14.705Z"
   },
   {
    "duration": -1895,
    "start_time": "2022-02-12T13:56:14.711Z"
   },
   {
    "duration": -1900,
    "start_time": "2022-02-12T13:56:14.717Z"
   },
   {
    "duration": -1906,
    "start_time": "2022-02-12T13:56:14.723Z"
   },
   {
    "duration": -1912,
    "start_time": "2022-02-12T13:56:14.730Z"
   },
   {
    "duration": -1918,
    "start_time": "2022-02-12T13:56:14.737Z"
   },
   {
    "duration": -1927,
    "start_time": "2022-02-12T13:56:14.747Z"
   },
   {
    "duration": -1949,
    "start_time": "2022-02-12T13:56:14.770Z"
   },
   {
    "duration": -1958,
    "start_time": "2022-02-12T13:56:14.780Z"
   },
   {
    "duration": -1966,
    "start_time": "2022-02-12T13:56:14.789Z"
   },
   {
    "duration": -1974,
    "start_time": "2022-02-12T13:56:14.798Z"
   },
   {
    "duration": -1982,
    "start_time": "2022-02-12T13:56:14.807Z"
   },
   {
    "duration": -1990,
    "start_time": "2022-02-12T13:56:14.816Z"
   },
   {
    "duration": -1998,
    "start_time": "2022-02-12T13:56:14.825Z"
   },
   {
    "duration": -2005,
    "start_time": "2022-02-12T13:56:14.833Z"
   },
   {
    "duration": -2010,
    "start_time": "2022-02-12T13:56:14.839Z"
   },
   {
    "duration": -2015,
    "start_time": "2022-02-12T13:56:14.845Z"
   },
   {
    "duration": -2020,
    "start_time": "2022-02-12T13:56:14.851Z"
   },
   {
    "duration": -2026,
    "start_time": "2022-02-12T13:56:14.858Z"
   },
   {
    "duration": -2144,
    "start_time": "2022-02-12T13:56:14.977Z"
   },
   {
    "duration": -2216,
    "start_time": "2022-02-12T13:56:15.050Z"
   },
   {
    "duration": -2243,
    "start_time": "2022-02-12T13:56:15.078Z"
   },
   {
    "duration": -2249,
    "start_time": "2022-02-12T13:56:15.085Z"
   },
   {
    "duration": -2253,
    "start_time": "2022-02-12T13:56:15.090Z"
   },
   {
    "duration": -2273,
    "start_time": "2022-02-12T13:56:15.111Z"
   },
   {
    "duration": -2280,
    "start_time": "2022-02-12T13:56:15.120Z"
   },
   {
    "duration": -2289,
    "start_time": "2022-02-12T13:56:15.130Z"
   },
   {
    "duration": 199948,
    "start_time": "2022-02-12T13:57:27.322Z"
   },
   {
    "duration": 101615,
    "start_time": "2022-02-12T14:00:52.080Z"
   },
   {
    "duration": 275,
    "start_time": "2022-02-12T14:02:33.697Z"
   },
   {
    "duration": 2247,
    "start_time": "2022-02-12T14:07:17.665Z"
   },
   {
    "duration": 278,
    "start_time": "2022-02-12T14:07:28.322Z"
   },
   {
    "duration": 6,
    "start_time": "2022-02-12T14:07:34.452Z"
   },
   {
    "duration": 187,
    "start_time": "2022-02-12T14:07:37.976Z"
   },
   {
    "duration": 214,
    "start_time": "2022-02-12T14:07:38.582Z"
   },
   {
    "duration": 235,
    "start_time": "2022-02-12T14:07:39.433Z"
   },
   {
    "duration": 7,
    "start_time": "2022-02-12T14:07:41.637Z"
   },
   {
    "duration": 11,
    "start_time": "2022-02-12T14:07:42.943Z"
   },
   {
    "duration": 6,
    "start_time": "2022-02-12T14:07:45.118Z"
   },
   {
    "duration": 8,
    "start_time": "2022-02-12T14:07:46.004Z"
   },
   {
    "duration": 6,
    "start_time": "2022-02-12T14:07:46.588Z"
   },
   {
    "duration": 274,
    "start_time": "2022-02-12T14:07:48.890Z"
   },
   {
    "duration": 15,
    "start_time": "2022-02-12T14:07:56.293Z"
   },
   {
    "duration": 6,
    "start_time": "2022-02-12T14:07:57.998Z"
   },
   {
    "duration": 9,
    "start_time": "2022-02-12T14:07:59.117Z"
   },
   {
    "duration": 10,
    "start_time": "2022-02-12T14:08:00.359Z"
   },
   {
    "duration": 20,
    "start_time": "2022-02-12T14:08:03.281Z"
   },
   {
    "duration": 14,
    "start_time": "2022-02-12T14:08:04.382Z"
   },
   {
    "duration": 5,
    "start_time": "2022-02-12T14:08:06.912Z"
   },
   {
    "duration": 4,
    "start_time": "2022-02-12T14:08:07.718Z"
   },
   {
    "duration": 6,
    "start_time": "2022-02-12T14:08:08.391Z"
   },
   {
    "duration": 12,
    "start_time": "2022-02-12T14:08:09.514Z"
   },
   {
    "duration": 4,
    "start_time": "2022-02-12T14:08:10.379Z"
   },
   {
    "duration": 7,
    "start_time": "2022-02-12T14:08:11.034Z"
   },
   {
    "duration": 5,
    "start_time": "2022-02-12T14:08:12.753Z"
   },
   {
    "duration": 11,
    "start_time": "2022-02-12T14:08:13.988Z"
   },
   {
    "duration": 10,
    "start_time": "2022-02-12T14:08:15.415Z"
   },
   {
    "duration": 8,
    "start_time": "2022-02-12T14:08:16.620Z"
   },
   {
    "duration": 4,
    "start_time": "2022-02-12T14:08:19.006Z"
   },
   {
    "duration": 9,
    "start_time": "2022-02-12T14:08:19.630Z"
   },
   {
    "duration": 270,
    "start_time": "2022-02-12T14:08:23.368Z"
   }
  ],
  "kernelspec": {
   "display_name": "Python 3 (ipykernel)",
   "language": "python",
   "name": "python3"
  },
  "language_info": {
   "codemirror_mode": {
    "name": "ipython",
    "version": 3
   },
   "file_extension": ".py",
   "mimetype": "text/x-python",
   "name": "python",
   "nbconvert_exporter": "python",
   "pygments_lexer": "ipython3",
   "version": "3.9.12"
  },
  "toc": {
   "base_numbering": 1,
   "nav_menu": {},
   "number_sections": true,
   "sideBar": true,
   "skip_h1_title": true,
   "title_cell": "Table of Contents",
   "title_sidebar": "Contents",
   "toc_cell": false,
   "toc_position": {},
   "toc_section_display": true,
   "toc_window_display": false
  }
 },
 "nbformat": 4,
 "nbformat_minor": 4
}
